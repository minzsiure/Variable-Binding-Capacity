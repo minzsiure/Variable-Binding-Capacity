{
  "nbformat": 4,
  "nbformat_minor": 0,
  "metadata": {
    "colab": {
      "provenance": [],
      "toc_visible": true,
      "authorship_tag": "ABX9TyOSw9wfoblbZzmdQwjkzrjh",
      "include_colab_link": true
    },
    "kernelspec": {
      "name": "python3",
      "display_name": "Python 3"
    },
    "language_info": {
      "name": "python"
    }
  },
  "cells": [
    {
      "cell_type": "markdown",
      "metadata": {
        "id": "view-in-github",
        "colab_type": "text"
      },
      "source": [
        "<a href=\"https://colab.research.google.com/github/minzsiure/Variable-Binding-Capacity/blob/main/Assembly_Recall.ipynb\" target=\"_parent\"><img src=\"https://colab.research.google.com/assets/colab-badge.svg\" alt=\"Open In Colab\"/></a>"
      ]
    },
    {
      "cell_type": "markdown",
      "metadata": {
        "id": "UXUo6Pcdg74F"
      },
      "source": [
        "# **Helper Functions** "
      ]
    },
    {
      "cell_type": "markdown",
      "metadata": {
        "id": "bWnQjBEoJZE1"
      },
      "source": [
        "### Quick note on the model ###\n",
        "**formula CAPk(W_xy_t @ x + W_yy_t @ y_t) = y_{t+1}**\n",
        "\n",
        "*   ##### **W_xy_t:** connections bw assembly x and y at time t; entry[i,j] = 1 represents a connection bw x_j and y_i; the entry is in {0, 1}, with probability p of intializing to 1, thus probability (1-p) intialiing to 0.\n",
        "*   ##### **W_yy_t:** connections within assembly y among its k neurons at time t; entry[i,j] represents connection between y_i and y_j where dim(W_xy_t) = n by n, dim(x) = n by 1\n",
        "*   ##### **dim (W_yy_t)** = n by n, dim(y_t) = n by 1\n",
        "*   ##### **dim (y_{t+1})** = n by 1 (due to capping k, only k nonzero entries)\n",
        "*   ##### cap/inhibition -> plasticity"
      ]
    },
    {
      "cell_type": "code",
      "execution_count": 13,
      "metadata": {
        "id": "dsKgLwaYJC0b"
      },
      "outputs": [],
      "source": [
        "import numpy as np\n",
        "import matplotlib.pyplot as plt\n",
        "import copy\n",
        "import random\n",
        "from tqdm import tqdm\n",
        "from scipy.spatial.distance import hamming\n",
        "rng = np.random.default_rng()"
      ]
    },
    {
      "cell_type": "markdown",
      "metadata": {
        "id": "IiJ2lNacKjbi"
      },
      "source": [
        "**Initalization Function**"
      ]
    },
    {
      "cell_type": "code",
      "execution_count": 3,
      "metadata": {
        "id": "VAgAQ_3AKl8k"
      },
      "outputs": [],
      "source": [
        "def randBin(M,N,p):\n",
        "    \"\"\"\n",
        "    initalize an M by N matrix, with each entry being 1 with a probability\n",
        "    of p and being 0 otherwise\n",
        "    \"\"\"\n",
        "    return np.random.choice([0., 1.], size=(M,N), p=[1-p, p])"
      ]
    },
    {
      "cell_type": "markdown",
      "metadata": {
        "id": "WZKD8y9ZKo6E"
      },
      "source": [
        "**Plasticity**"
      ]
    },
    {
      "cell_type": "code",
      "execution_count": 4,
      "metadata": {
        "id": "ZK6P-2s_KsqJ"
      },
      "outputs": [],
      "source": [
        "def enhance(W_t, y, x, Beta, n):\n",
        "    \"\"\"\n",
        "    multiply W[i,j] by (1+Beta) if y_i(t) = 1, x_j = 1\n",
        "    keep W[i,j] otherwise\n",
        "    \n",
        "    return W_{t+1}\n",
        "    \"\"\"\n",
        "    for i in range(0, n):\n",
        "        for j in range(0, n):\n",
        "            if y[i] == 1 and x[j] == 1:\n",
        "                W_t[i][j] *= (Beta+1)\n",
        "    return W_t"
      ]
    },
    {
      "cell_type": "markdown",
      "metadata": {
        "id": "B05GEAkIsxun"
      },
      "source": [
        "**Inhibition (CAPk)**"
      ]
    },
    {
      "cell_type": "code",
      "execution_count": 5,
      "metadata": {
        "id": "OcW5EVMTszkQ"
      },
      "outputs": [],
      "source": [
        "def CAPk(z,k):\n",
        "    \"\"\"\n",
        "    Given a n-dim vector z, its k largest numbers are set to 1. \n",
        "    The rest of n-k entries are set to 0.\n",
        "    \"\"\"\n",
        "    if len(np.where(z != 0)[0]) > k:\n",
        "        index = np.argsort(z)\n",
        "        z[index[:-k]] = 0\n",
        "    z[np.where(z != 0.)[0]] = 1.\n",
        "    return z"
      ]
    },
    {
      "cell_type": "markdown",
      "source": [
        "### Helper Functions for Stream of Stimuli"
      ],
      "metadata": {
        "id": "5q-YB39rsxkl"
      }
    },
    {
      "cell_type": "code",
      "source": [
        "def hebbian_update(W, out_vec, in_vec, beta):\n",
        "    for i in np.where(out_vec!=0.)[0]:\n",
        "        for j in np.where(in_vec!=0.)[0]:\n",
        "            W[i,j] *= 1. + beta\n",
        "    return W\n",
        "\n",
        "def capk(vec, k):\n",
        "    if len(np.where(vec!=0.)[0]) > k:\n",
        "        indices = np.argsort(vec)\n",
        "        vec[indices[:-k]] = 0.\n",
        "    vec[np.where(vec!=0.)[0]] = 1.0\n",
        "    return vec"
      ],
      "metadata": {
        "id": "kCR17FRclV3B"
      },
      "execution_count": 6,
      "outputs": []
    },
    {
      "cell_type": "code",
      "source": [
        "def generate_stimulus(n, k, p_r, coreset=None):\n",
        "    if coreset is None:\n",
        "        coreset = np.arange(k)\n",
        "        \n",
        "    non_coreset = np.array([i for i in range(n) if i not in coreset])\n",
        "    \n",
        "    stim_idx = np.concatenate((np.random.choice(coreset, np.floor(p_r*k).astype(np.int32), replace=False), \n",
        "                               np.random.choice(non_coreset, k - np.floor(p_r*k).astype(np.int32), replace=False)))\n",
        "    x = np.zeros(n)\n",
        "    x[stim_idx] = 1.0\n",
        "    \n",
        "    return x"
      ],
      "metadata": {
        "id": "-JwFYGiGleg7"
      },
      "execution_count": 7,
      "outputs": []
    },
    {
      "cell_type": "markdown",
      "metadata": {
        "id": "s_D8JN1AeLWn"
      },
      "source": [
        "# **A) Assembly Recall: Behavior of Hamming Distance Between Input and Output in Projection Recovery with Noisy Stimulus**"
      ]
    },
    {
      "cell_type": "markdown",
      "metadata": {
        "id": "PbYC1Is1kgAf"
      },
      "source": [
        "Denote y_0 = project(x_0), and assembly created with stimulus input x_0\n",
        "*   Do project with and without recurrence\n",
        "*   Try T = 2 and T = 5 steps of random projection and cap\n",
        "*   Goal 1: Plot the hamming distance d_H_in(x,x_0) VS d_H_out(y,y_0) between 0 and 2k\n",
        "  *   x: input used to recover assembly\n",
        "  *   x_0: input used to create assembly\n",
        "  *   y: recovered assembly\n",
        "  *   y_0: original assembly\n",
        "*   Goal 2: Find the smallest T such that both d_H_in and d_H_out are both 0 \n",
        "\n",
        "\n",
        "\n",
        "\n",
        "\n",
        "\n",
        "\n"
      ]
    },
    {
      "cell_type": "markdown",
      "metadata": {
        "id": "F5n-A-KVmoU7"
      },
      "source": [
        "### Helper functions"
      ]
    },
    {
      "cell_type": "code",
      "execution_count": 8,
      "metadata": {
        "id": "sozR292ruA3L"
      },
      "outputs": [],
      "source": [
        "def create_recovery_input(ham_dis, input):\n",
        "  '''\n",
        "  a helper function for creating inputs with _ham_dis_ different entries\n",
        "  '''\n",
        "  #1. first, identify set of indices with entry = 1 and index with entry = 0\n",
        "  output = copy.deepcopy(input)\n",
        "  entry_1 = []\n",
        "  entry_0 = []\n",
        "  for i in range(len(output)):\n",
        "    if input[i] == 1.0: #if entry i is 1\n",
        "      entry_1.append(i)\n",
        "    else: #if entry i is 0\n",
        "      entry_0.append(i)\n",
        "  #2. randomly select _ham_dis_ of entry_1 to omit into 0, and _ham_dis of entry_0 to turn into 1\n",
        "  if ham_dis%2==0: #entry is even\n",
        "    UpdatedEntry1 = random.sample(entry_1, ham_dis//2)\n",
        "    UpdatedEntry0 = random.sample(entry_0, ham_dis//2) \n",
        "\n",
        "  # omit\n",
        "  for j in UpdatedEntry1:\n",
        "    output[j] = 0.0\n",
        "  for z in UpdatedEntry0:\n",
        "    output[z] = 1.0\n",
        "\n",
        "  return output"
      ]
    },
    {
      "cell_type": "code",
      "execution_count": 9,
      "metadata": {
        "colab": {
          "base_uri": "https://localhost:8080/"
        },
        "id": "RxQsjIarv9oq",
        "outputId": "87668517-fcc0-46df-d882-bd339edf7bba"
      },
      "outputs": [
        {
          "output_type": "stream",
          "name": "stdout",
          "text": [
            "old [0. 0. 0. 0. 1. 0. 0. 0. 0. 0. 0. 0. 0. 1. 0. 0. 0. 0. 0. 0.]\n",
            "new [0. 0. 0. 0. 0. 0. 0. 0. 0. 0. 1. 0. 0. 1. 0. 0. 0. 0. 0. 0.]\n",
            "2.0\n"
          ]
        }
      ],
      "source": [
        "#test case \n",
        "n=20\n",
        "k=2\n",
        "ham_dis = 2\n",
        "x_0 = np.zeros(n)\n",
        "stim = np.random.permutation(n)[:k]\n",
        "x_0[stim] = 1.0\n",
        "print('old',x_0)\n",
        "x_hm = create_recovery_input(ham_dis,x_0)\n",
        "print('new',x_hm)\n",
        "print(hamming(x_0, x_hm)*len(x_0))"
      ]
    },
    {
      "cell_type": "markdown",
      "metadata": {
        "id": "127AILBymrP8"
      },
      "source": [
        "### Executive functions"
      ]
    },
    {
      "cell_type": "code",
      "execution_count": 10,
      "metadata": {
        "id": "nSBEFCD0eYNT"
      },
      "outputs": [],
      "source": [
        "def recover_proj_hamDist_init(n,p,k,Beta):\n",
        "    \"\"\"\n",
        "    Initialize weights, x, and y.\n",
        "    \"\"\"\n",
        "    #1. init x_0, y_0, Ws\n",
        "    x_0 = np.zeros(n)\n",
        "    stim = np.random.permutation(n)[:k]\n",
        "    x_0[stim] = 1.0\n",
        "    y_0 = np.zeros((n))\n",
        "    W_xy = randBin(n,n,p)\n",
        "    W_yy = randBin(n,n,p)\n",
        "    \n",
        "    #initialize new x and new y for recovering usage\n",
        "    x = np.zeros(n)\n",
        "    stim_x = np.random.permutation(n)[:k]\n",
        "    x[stim_x] = 1.0\n",
        "    y = np.zeros((n))\n",
        "    \n",
        "    #learned weights\n",
        "    #use those weights to do the recovery\n",
        "    return x,y,W_xy,W_yy"
      ]
    },
    {
      "cell_type": "code",
      "execution_count": 22,
      "metadata": {
        "id": "uRZlb50emLkZ"
      },
      "outputs": [],
      "source": [
        "def recover_proj_hamDist_recovering(x,y,k,Beta,W_xy,W_yy,proj_time,sampling_time,recover_time,recur):\n",
        "    W_xy_copy = copy.deepcopy(W_xy)\n",
        "    x_copy = copy.deepcopy(x)\n",
        "    if recur:\n",
        "        W_yy_copy = copy.deepcopy(W_yy)\n",
        "    y_copy = copy.deepcopy(y)\n",
        "    #2. Fire/train for _time_ steps to get y_t\n",
        "    print('Training starting...')\n",
        "    for t in tqdm(range(proj_time)):\n",
        "        if recur:\n",
        "          y_t = W_xy_copy@x_copy+(W_yy_copy@y_copy)\n",
        "        else:\n",
        "          y_t = (W_xy_copy@x_copy)\n",
        "        \n",
        "        #inhibition\n",
        "        y_t = CAPk(y_t,k)\n",
        "        #plasticity\n",
        "        W_xy_copy = enhance(W_xy_copy, y_t, x_copy, Beta, n)\n",
        "        if recur:\n",
        "          W_yy_copy = enhance(W_yy_copy, y_t, y_copy, Beta, n)\n",
        "\n",
        "        y_copy = np.copy(y_t)\n",
        "\n",
        "    #3. Try recover by measuring hamming distances d_H_out(y,y_0) and d_H_in(x,x_0)\n",
        "    # d_H_in ranges from 0 to 2*k\n",
        "    ham_dH_out_total = []\n",
        "    ham_dH_in_total = []\n",
        "    ham_range = [item for item in range(0, 2*(k+1), 2)]\n",
        "    result = np.zeros((len(ham_range), sampling_time))\n",
        "\n",
        "    for j, ham in enumerate(ham_range):\n",
        "      print(\"Recovering for ham %i...\"%(ham))\n",
        "      avg_temp = [] #a holder for averaging over all samples\n",
        "      for i in tqdm(range(sampling_time)):\n",
        "        # for each ham_dist, generate a new x, and train recovery for proj_time many steps, then calculate hamming(y_0,y)\n",
        "        y_copy_copy = copy.deepcopy(y_copy)\n",
        "        x_copy_copy = create_recovery_input(ham,x_copy) #generate new x based on current ham_dist   \n",
        "        \n",
        "        for time in range(recover_time):\n",
        "          # train for _recover_time steps\n",
        "          if recur:\n",
        "            y_t_recover = (W_xy_copy@x_copy_copy)+(W_yy_copy@y_copy_copy)\n",
        "          else:\n",
        "            y_t_recover = (W_xy_copy@x_copy_copy)\n",
        "        \n",
        "          # inhibition\n",
        "          y_t_recover = CAPk(y_t_recover,k)\n",
        "\n",
        "          y_copy_copy = np.copy(y_t_recover)\n",
        "        avg_temp.append(hamming(y_copy_copy, y_copy)*n)\n",
        "\n",
        "      result[j] = avg_temp\n",
        "      ham_dH_out_total.append(sum(avg_temp)/len(avg_temp)) # take average\n",
        "      avg_temp = []\n",
        "      ham_dH_in_total.append(ham)\n",
        "      print()\n",
        "\n",
        "    # return ham_dH_in_total, ham_dH_out_total, None\n",
        "    return ham_dH_in_total, np.mean(result, axis=1), np.std(result, axis=1)/np.sqrt(sampling_time)"
      ]
    },
    {
      "cell_type": "code",
      "execution_count": 23,
      "metadata": {
        "colab": {
          "base_uri": "https://localhost:8080/",
          "height": 1000
        },
        "id": "Xm99X1hlnR9H",
        "outputId": "f18039f0-42e7-414a-fbb9-69ca67b54c8f"
      },
      "outputs": [
        {
          "output_type": "stream",
          "name": "stdout",
          "text": [
            "Training starting...\n"
          ]
        },
        {
          "output_type": "stream",
          "name": "stderr",
          "text": [
            "100%|██████████| 40/40 [00:18<00:00,  2.19it/s]\n"
          ]
        },
        {
          "output_type": "stream",
          "name": "stdout",
          "text": [
            "Recovering for ham 0...\n"
          ]
        },
        {
          "output_type": "stream",
          "name": "stderr",
          "text": [
            "100%|██████████| 10/10 [00:00<00:00, 163.89it/s]\n"
          ]
        },
        {
          "output_type": "stream",
          "name": "stdout",
          "text": [
            "\n",
            "Recovering for ham 2...\n"
          ]
        },
        {
          "output_type": "stream",
          "name": "stderr",
          "text": [
            "100%|██████████| 10/10 [00:00<00:00, 142.40it/s]\n"
          ]
        },
        {
          "output_type": "stream",
          "name": "stdout",
          "text": [
            "\n",
            "Recovering for ham 4...\n"
          ]
        },
        {
          "output_type": "stream",
          "name": "stderr",
          "text": [
            "100%|██████████| 10/10 [00:00<00:00, 137.66it/s]\n"
          ]
        },
        {
          "output_type": "stream",
          "name": "stdout",
          "text": [
            "\n",
            "Recovering for ham 6...\n"
          ]
        },
        {
          "output_type": "stream",
          "name": "stderr",
          "text": [
            "100%|██████████| 10/10 [00:00<00:00, 144.52it/s]\n"
          ]
        },
        {
          "output_type": "stream",
          "name": "stdout",
          "text": [
            "\n",
            "Recovering for ham 8...\n"
          ]
        },
        {
          "output_type": "stream",
          "name": "stderr",
          "text": [
            "100%|██████████| 10/10 [00:00<00:00, 121.89it/s]\n"
          ]
        },
        {
          "output_type": "stream",
          "name": "stdout",
          "text": [
            "\n",
            "Recovering for ham 10...\n"
          ]
        },
        {
          "output_type": "stream",
          "name": "stderr",
          "text": [
            "100%|██████████| 10/10 [00:00<00:00, 126.60it/s]\n"
          ]
        },
        {
          "output_type": "stream",
          "name": "stdout",
          "text": [
            "\n",
            "Recovering for ham 12...\n"
          ]
        },
        {
          "output_type": "stream",
          "name": "stderr",
          "text": [
            "100%|██████████| 10/10 [00:00<00:00, 166.61it/s]\n"
          ]
        },
        {
          "output_type": "stream",
          "name": "stdout",
          "text": [
            "\n",
            "Recovering for ham 14...\n"
          ]
        },
        {
          "output_type": "stream",
          "name": "stderr",
          "text": [
            "100%|██████████| 10/10 [00:00<00:00, 171.82it/s]\n"
          ]
        },
        {
          "output_type": "stream",
          "name": "stdout",
          "text": [
            "\n",
            "Recovering for ham 16...\n"
          ]
        },
        {
          "output_type": "stream",
          "name": "stderr",
          "text": [
            "100%|██████████| 10/10 [00:00<00:00, 110.15it/s]\n"
          ]
        },
        {
          "output_type": "stream",
          "name": "stdout",
          "text": [
            "\n",
            "Recovering for ham 18...\n"
          ]
        },
        {
          "output_type": "stream",
          "name": "stderr",
          "text": [
            "100%|██████████| 10/10 [00:00<00:00, 168.76it/s]\n"
          ]
        },
        {
          "output_type": "stream",
          "name": "stdout",
          "text": [
            "\n",
            "Recovering for ham 20...\n"
          ]
        },
        {
          "output_type": "stream",
          "name": "stderr",
          "text": [
            "100%|██████████| 10/10 [00:00<00:00, 161.97it/s]\n"
          ]
        },
        {
          "output_type": "stream",
          "name": "stdout",
          "text": [
            "\n",
            "Recovering for ham 22...\n"
          ]
        },
        {
          "output_type": "stream",
          "name": "stderr",
          "text": [
            "100%|██████████| 10/10 [00:00<00:00, 147.33it/s]\n"
          ]
        },
        {
          "output_type": "stream",
          "name": "stdout",
          "text": [
            "\n",
            "Recovering for ham 24...\n"
          ]
        },
        {
          "output_type": "stream",
          "name": "stderr",
          "text": [
            "100%|██████████| 10/10 [00:00<00:00, 130.62it/s]\n"
          ]
        },
        {
          "output_type": "stream",
          "name": "stdout",
          "text": [
            "\n",
            "Recovering for ham 26...\n"
          ]
        },
        {
          "output_type": "stream",
          "name": "stderr",
          "text": [
            "100%|██████████| 10/10 [00:00<00:00, 149.17it/s]\n"
          ]
        },
        {
          "output_type": "stream",
          "name": "stdout",
          "text": [
            "\n",
            "Recovering for ham 28...\n"
          ]
        },
        {
          "output_type": "stream",
          "name": "stderr",
          "text": [
            "100%|██████████| 10/10 [00:00<00:00, 147.45it/s]\n"
          ]
        },
        {
          "output_type": "stream",
          "name": "stdout",
          "text": [
            "\n",
            "Recovering for ham 30...\n"
          ]
        },
        {
          "output_type": "stream",
          "name": "stderr",
          "text": [
            "100%|██████████| 10/10 [00:00<00:00, 148.37it/s]\n"
          ]
        },
        {
          "output_type": "stream",
          "name": "stdout",
          "text": [
            "\n",
            "Recovering for ham 32...\n"
          ]
        },
        {
          "output_type": "stream",
          "name": "stderr",
          "text": [
            "100%|██████████| 10/10 [00:00<00:00, 120.66it/s]\n"
          ]
        },
        {
          "output_type": "stream",
          "name": "stdout",
          "text": [
            "\n",
            "Recovering for ham 34...\n"
          ]
        },
        {
          "output_type": "stream",
          "name": "stderr",
          "text": [
            "100%|██████████| 10/10 [00:00<00:00, 123.32it/s]\n"
          ]
        },
        {
          "output_type": "stream",
          "name": "stdout",
          "text": [
            "\n",
            "Recovering for ham 36...\n"
          ]
        },
        {
          "output_type": "stream",
          "name": "stderr",
          "text": [
            "100%|██████████| 10/10 [00:00<00:00, 152.49it/s]\n"
          ]
        },
        {
          "output_type": "stream",
          "name": "stdout",
          "text": [
            "\n",
            "Recovering for ham 38...\n"
          ]
        },
        {
          "output_type": "stream",
          "name": "stderr",
          "text": [
            "100%|██████████| 10/10 [00:00<00:00, 74.96it/s]\n"
          ]
        },
        {
          "output_type": "stream",
          "name": "stdout",
          "text": [
            "\n",
            "Recovering for ham 40...\n"
          ]
        },
        {
          "output_type": "stream",
          "name": "stderr",
          "text": [
            "100%|██████████| 10/10 [00:00<00:00, 99.54it/s]\n"
          ]
        },
        {
          "output_type": "stream",
          "name": "stdout",
          "text": [
            "\n",
            "Recovering for ham 42...\n"
          ]
        },
        {
          "output_type": "stream",
          "name": "stderr",
          "text": [
            "100%|██████████| 10/10 [00:00<00:00, 92.08it/s]\n"
          ]
        },
        {
          "output_type": "stream",
          "name": "stdout",
          "text": [
            "\n",
            "Recovering for ham 44...\n"
          ]
        },
        {
          "output_type": "stream",
          "name": "stderr",
          "text": [
            "100%|██████████| 10/10 [00:00<00:00, 69.69it/s]\n"
          ]
        },
        {
          "output_type": "stream",
          "name": "stdout",
          "text": [
            "\n",
            "Recovering for ham 46...\n"
          ]
        },
        {
          "output_type": "stream",
          "name": "stderr",
          "text": [
            "100%|██████████| 10/10 [00:00<00:00, 38.50it/s]\n"
          ]
        },
        {
          "output_type": "stream",
          "name": "stdout",
          "text": [
            "\n",
            "Recovering for ham 48...\n"
          ]
        },
        {
          "output_type": "stream",
          "name": "stderr",
          "text": [
            "100%|██████████| 10/10 [00:00<00:00, 36.07it/s]\n"
          ]
        },
        {
          "output_type": "stream",
          "name": "stdout",
          "text": [
            "\n",
            "Recovering for ham 50...\n"
          ]
        },
        {
          "output_type": "stream",
          "name": "stderr",
          "text": [
            "100%|██████████| 10/10 [00:00<00:00, 153.58it/s]\n"
          ]
        },
        {
          "output_type": "stream",
          "name": "stdout",
          "text": [
            "\n",
            "Recovering for ham 52...\n"
          ]
        },
        {
          "output_type": "stream",
          "name": "stderr",
          "text": [
            "100%|██████████| 10/10 [00:00<00:00, 173.61it/s]\n"
          ]
        },
        {
          "output_type": "stream",
          "name": "stdout",
          "text": [
            "\n",
            "Recovering for ham 54...\n"
          ]
        },
        {
          "output_type": "stream",
          "name": "stderr",
          "text": [
            "100%|██████████| 10/10 [00:00<00:00, 179.97it/s]\n"
          ]
        },
        {
          "output_type": "stream",
          "name": "stdout",
          "text": [
            "\n",
            "Recovering for ham 56...\n"
          ]
        },
        {
          "output_type": "stream",
          "name": "stderr",
          "text": [
            "100%|██████████| 10/10 [00:00<00:00, 177.64it/s]\n"
          ]
        },
        {
          "output_type": "stream",
          "name": "stdout",
          "text": [
            "\n",
            "Recovering for ham 58...\n"
          ]
        },
        {
          "output_type": "stream",
          "name": "stderr",
          "text": [
            "100%|██████████| 10/10 [00:00<00:00, 177.36it/s]\n"
          ]
        },
        {
          "output_type": "stream",
          "name": "stdout",
          "text": [
            "\n",
            "Recovering for ham 60...\n"
          ]
        },
        {
          "output_type": "stream",
          "name": "stderr",
          "text": [
            "100%|██████████| 10/10 [00:00<00:00, 173.06it/s]\n"
          ]
        },
        {
          "output_type": "stream",
          "name": "stdout",
          "text": [
            "\n",
            "Recovering for ham 62...\n"
          ]
        },
        {
          "output_type": "stream",
          "name": "stderr",
          "text": [
            "100%|██████████| 10/10 [00:00<00:00, 149.02it/s]\n"
          ]
        },
        {
          "output_type": "stream",
          "name": "stdout",
          "text": [
            "\n",
            "Recovering for ham 64...\n"
          ]
        },
        {
          "output_type": "stream",
          "name": "stderr",
          "text": [
            "100%|██████████| 10/10 [00:00<00:00, 160.92it/s]\n"
          ]
        },
        {
          "output_type": "stream",
          "name": "stdout",
          "text": [
            "\n",
            "Recovering for ham 66...\n"
          ]
        },
        {
          "output_type": "stream",
          "name": "stderr",
          "text": [
            "100%|██████████| 10/10 [00:00<00:00, 82.75it/s]\n"
          ]
        },
        {
          "output_type": "stream",
          "name": "stdout",
          "text": [
            "\n",
            "Recovering for ham 68...\n"
          ]
        },
        {
          "output_type": "stream",
          "name": "stderr",
          "text": [
            "100%|██████████| 10/10 [00:00<00:00, 153.09it/s]\n"
          ]
        },
        {
          "output_type": "stream",
          "name": "stdout",
          "text": [
            "\n",
            "Recovering for ham 70...\n"
          ]
        },
        {
          "output_type": "stream",
          "name": "stderr",
          "text": [
            "100%|██████████| 10/10 [00:00<00:00, 136.61it/s]\n"
          ]
        },
        {
          "output_type": "stream",
          "name": "stdout",
          "text": [
            "\n",
            "Recovering for ham 72...\n"
          ]
        },
        {
          "output_type": "stream",
          "name": "stderr",
          "text": [
            "100%|██████████| 10/10 [00:00<00:00, 154.41it/s]\n"
          ]
        },
        {
          "output_type": "stream",
          "name": "stdout",
          "text": [
            "\n",
            "Recovering for ham 74...\n"
          ]
        },
        {
          "output_type": "stream",
          "name": "stderr",
          "text": [
            "100%|██████████| 10/10 [00:00<00:00, 185.42it/s]\n"
          ]
        },
        {
          "output_type": "stream",
          "name": "stdout",
          "text": [
            "\n",
            "Recovering for ham 76...\n"
          ]
        },
        {
          "output_type": "stream",
          "name": "stderr",
          "text": [
            "100%|██████████| 10/10 [00:00<00:00, 184.61it/s]\n"
          ]
        },
        {
          "output_type": "stream",
          "name": "stdout",
          "text": [
            "\n",
            "Recovering for ham 78...\n"
          ]
        },
        {
          "output_type": "stream",
          "name": "stderr",
          "text": [
            "100%|██████████| 10/10 [00:00<00:00, 183.41it/s]\n"
          ]
        },
        {
          "output_type": "stream",
          "name": "stdout",
          "text": [
            "\n",
            "Recovering for ham 80...\n"
          ]
        },
        {
          "output_type": "stream",
          "name": "stderr",
          "text": [
            "100%|██████████| 10/10 [00:00<00:00, 151.22it/s]\n"
          ]
        },
        {
          "output_type": "stream",
          "name": "stdout",
          "text": [
            "\n",
            "Recovering for ham 82...\n"
          ]
        },
        {
          "output_type": "stream",
          "name": "stderr",
          "text": [
            "100%|██████████| 10/10 [00:00<00:00, 176.68it/s]\n"
          ]
        },
        {
          "output_type": "stream",
          "name": "stdout",
          "text": [
            "\n",
            "Training starting...\n"
          ]
        },
        {
          "output_type": "stream",
          "name": "stderr",
          "text": [
            " 12%|█▎        | 5/40 [00:03<00:26,  1.32it/s]\n"
          ]
        },
        {
          "output_type": "error",
          "ename": "KeyboardInterrupt",
          "evalue": "ignored",
          "traceback": [
            "\u001b[0;31m---------------------------------------------------------------------------\u001b[0m",
            "\u001b[0;31mKeyboardInterrupt\u001b[0m                         Traceback (most recent call last)",
            "\u001b[0;32m<ipython-input-23-0eddfec122c4>\u001b[0m in \u001b[0;36m<cell line: 14>\u001b[0;34m()\u001b[0m\n\u001b[1;32m     13\u001b[0m \u001b[0mx\u001b[0m\u001b[0;34m,\u001b[0m\u001b[0my\u001b[0m\u001b[0;34m,\u001b[0m\u001b[0mW_xy\u001b[0m\u001b[0;34m,\u001b[0m\u001b[0mW_yy\u001b[0m \u001b[0;34m=\u001b[0m \u001b[0mrecover_proj_hamDist_init\u001b[0m\u001b[0;34m(\u001b[0m\u001b[0mn\u001b[0m\u001b[0;34m,\u001b[0m\u001b[0mp\u001b[0m\u001b[0;34m,\u001b[0m\u001b[0mk\u001b[0m\u001b[0;34m,\u001b[0m\u001b[0mBeta\u001b[0m\u001b[0;34m)\u001b[0m\u001b[0;34m\u001b[0m\u001b[0;34m\u001b[0m\u001b[0m\n\u001b[1;32m     14\u001b[0m \u001b[0;32mfor\u001b[0m \u001b[0mr\u001b[0m \u001b[0;32min\u001b[0m \u001b[0mrec\u001b[0m\u001b[0;34m:\u001b[0m\u001b[0;34m\u001b[0m\u001b[0;34m\u001b[0m\u001b[0m\n\u001b[0;32m---> 15\u001b[0;31m   \u001b[0mham_in\u001b[0m\u001b[0;34m,\u001b[0m \u001b[0mham_out\u001b[0m\u001b[0;34m,\u001b[0m \u001b[0msem\u001b[0m \u001b[0;34m=\u001b[0m \u001b[0mrecover_proj_hamDist_recovering\u001b[0m\u001b[0;34m(\u001b[0m\u001b[0mx\u001b[0m\u001b[0;34m,\u001b[0m\u001b[0my\u001b[0m\u001b[0;34m,\u001b[0m\u001b[0mk\u001b[0m\u001b[0;34m,\u001b[0m\u001b[0mBeta\u001b[0m\u001b[0;34m,\u001b[0m\u001b[0mW_xy\u001b[0m\u001b[0;34m,\u001b[0m\u001b[0mW_yy\u001b[0m\u001b[0;34m,\u001b[0m\u001b[0mproj_time\u001b[0m\u001b[0;34m,\u001b[0m\u001b[0msampling_time\u001b[0m\u001b[0;34m,\u001b[0m\u001b[0mrecover_time\u001b[0m\u001b[0;34m,\u001b[0m\u001b[0mr\u001b[0m\u001b[0;34m)\u001b[0m\u001b[0;34m\u001b[0m\u001b[0;34m\u001b[0m\u001b[0m\n\u001b[0m\u001b[1;32m     16\u001b[0m   \u001b[0msize_in\u001b[0m\u001b[0;34m.\u001b[0m\u001b[0mappend\u001b[0m\u001b[0;34m(\u001b[0m\u001b[0mham_in\u001b[0m\u001b[0;34m)\u001b[0m\u001b[0;34m\u001b[0m\u001b[0;34m\u001b[0m\u001b[0m\n\u001b[1;32m     17\u001b[0m   \u001b[0msize_out\u001b[0m\u001b[0;34m.\u001b[0m\u001b[0mappend\u001b[0m\u001b[0;34m(\u001b[0m\u001b[0mham_out\u001b[0m\u001b[0;34m)\u001b[0m\u001b[0;34m\u001b[0m\u001b[0;34m\u001b[0m\u001b[0m\n",
            "\u001b[0;32m<ipython-input-22-e42cc0225d8e>\u001b[0m in \u001b[0;36mrecover_proj_hamDist_recovering\u001b[0;34m(x, y, k, Beta, W_xy, W_yy, proj_time, sampling_time, recover_time, recur)\u001b[0m\n\u001b[1;32m     16\u001b[0m         \u001b[0my_t\u001b[0m \u001b[0;34m=\u001b[0m \u001b[0mCAPk\u001b[0m\u001b[0;34m(\u001b[0m\u001b[0my_t\u001b[0m\u001b[0;34m,\u001b[0m\u001b[0mk\u001b[0m\u001b[0;34m)\u001b[0m\u001b[0;34m\u001b[0m\u001b[0;34m\u001b[0m\u001b[0m\n\u001b[1;32m     17\u001b[0m         \u001b[0;31m#plasticity\u001b[0m\u001b[0;34m\u001b[0m\u001b[0;34m\u001b[0m\u001b[0m\n\u001b[0;32m---> 18\u001b[0;31m         \u001b[0mW_xy_copy\u001b[0m \u001b[0;34m=\u001b[0m \u001b[0menhance\u001b[0m\u001b[0;34m(\u001b[0m\u001b[0mW_xy_copy\u001b[0m\u001b[0;34m,\u001b[0m \u001b[0my_t\u001b[0m\u001b[0;34m,\u001b[0m \u001b[0mx_copy\u001b[0m\u001b[0;34m,\u001b[0m \u001b[0mBeta\u001b[0m\u001b[0;34m,\u001b[0m \u001b[0mn\u001b[0m\u001b[0;34m)\u001b[0m\u001b[0;34m\u001b[0m\u001b[0;34m\u001b[0m\u001b[0m\n\u001b[0m\u001b[1;32m     19\u001b[0m         \u001b[0;32mif\u001b[0m \u001b[0mrecur\u001b[0m\u001b[0;34m:\u001b[0m\u001b[0;34m\u001b[0m\u001b[0;34m\u001b[0m\u001b[0m\n\u001b[1;32m     20\u001b[0m           \u001b[0mW_yy_copy\u001b[0m \u001b[0;34m=\u001b[0m \u001b[0menhance\u001b[0m\u001b[0;34m(\u001b[0m\u001b[0mW_yy_copy\u001b[0m\u001b[0;34m,\u001b[0m \u001b[0my_t\u001b[0m\u001b[0;34m,\u001b[0m \u001b[0my_copy\u001b[0m\u001b[0;34m,\u001b[0m \u001b[0mBeta\u001b[0m\u001b[0;34m,\u001b[0m \u001b[0mn\u001b[0m\u001b[0;34m)\u001b[0m\u001b[0;34m\u001b[0m\u001b[0;34m\u001b[0m\u001b[0m\n",
            "\u001b[0;32m<ipython-input-4-1a3225067a33>\u001b[0m in \u001b[0;36menhance\u001b[0;34m(W_t, y, x, Beta, n)\u001b[0m\n\u001b[1;32m      8\u001b[0m     \u001b[0;32mfor\u001b[0m \u001b[0mi\u001b[0m \u001b[0;32min\u001b[0m \u001b[0mrange\u001b[0m\u001b[0;34m(\u001b[0m\u001b[0;36m0\u001b[0m\u001b[0;34m,\u001b[0m \u001b[0mn\u001b[0m\u001b[0;34m)\u001b[0m\u001b[0;34m:\u001b[0m\u001b[0;34m\u001b[0m\u001b[0;34m\u001b[0m\u001b[0m\n\u001b[1;32m      9\u001b[0m         \u001b[0;32mfor\u001b[0m \u001b[0mj\u001b[0m \u001b[0;32min\u001b[0m \u001b[0mrange\u001b[0m\u001b[0;34m(\u001b[0m\u001b[0;36m0\u001b[0m\u001b[0;34m,\u001b[0m \u001b[0mn\u001b[0m\u001b[0;34m)\u001b[0m\u001b[0;34m:\u001b[0m\u001b[0;34m\u001b[0m\u001b[0;34m\u001b[0m\u001b[0m\n\u001b[0;32m---> 10\u001b[0;31m             \u001b[0;32mif\u001b[0m \u001b[0my\u001b[0m\u001b[0;34m[\u001b[0m\u001b[0mi\u001b[0m\u001b[0;34m]\u001b[0m \u001b[0;34m==\u001b[0m \u001b[0;36m1\u001b[0m \u001b[0;32mand\u001b[0m \u001b[0mx\u001b[0m\u001b[0;34m[\u001b[0m\u001b[0mj\u001b[0m\u001b[0;34m]\u001b[0m \u001b[0;34m==\u001b[0m \u001b[0;36m1\u001b[0m\u001b[0;34m:\u001b[0m\u001b[0;34m\u001b[0m\u001b[0;34m\u001b[0m\u001b[0m\n\u001b[0m\u001b[1;32m     11\u001b[0m                 \u001b[0mW_t\u001b[0m\u001b[0;34m[\u001b[0m\u001b[0mi\u001b[0m\u001b[0;34m]\u001b[0m\u001b[0;34m[\u001b[0m\u001b[0mj\u001b[0m\u001b[0;34m]\u001b[0m \u001b[0;34m*=\u001b[0m \u001b[0;34m(\u001b[0m\u001b[0mBeta\u001b[0m\u001b[0;34m+\u001b[0m\u001b[0;36m1\u001b[0m\u001b[0;34m)\u001b[0m\u001b[0;34m\u001b[0m\u001b[0;34m\u001b[0m\u001b[0m\n\u001b[1;32m     12\u001b[0m     \u001b[0;32mreturn\u001b[0m \u001b[0mW_t\u001b[0m\u001b[0;34m\u001b[0m\u001b[0;34m\u001b[0m\u001b[0m\n",
            "\u001b[0;31mKeyboardInterrupt\u001b[0m: "
          ]
        }
      ],
      "source": [
        "rec = [False,True]\n",
        "n, k, Beta, p =1000, 41, 0.05, 0.03\n",
        "proj_time, recover_time, sampling_time = 40, 10, 10\n",
        "\n",
        "size_in, size_out, size_sem = [], [],[]\n",
        "x,y,W_xy,W_yy = recover_proj_hamDist_init(n,p,k,Beta)\n",
        "\n",
        "for r in rec:\n",
        "  ham_in, ham_out, sem = recover_proj_hamDist_recovering(x,y,k,Beta,W_xy,W_yy,proj_time,sampling_time,recover_time,r)\n",
        "  size_in.append(ham_in)\n",
        "  size_out.append(ham_out)\n",
        "  size_sem.append(sem)"
      ]
    },
    {
      "cell_type": "code",
      "source": [
        "for x, y, sem, re in zip(size_in, size_out, size_sem, rec):\n",
        "  if re == False:\n",
        "    plt.plot(x,y,label='Without Recurrence')\n",
        "    plt.fill_between(x, y - sem, y +\n",
        "                         sem, alpha=0.25)\n",
        "    print('without re', [(i,j) for i, j in zip(x,y)])\n",
        "  else:\n",
        "    plt.plot(x,y,label='With Recurrence')\n",
        "    plt.fill_between(x, y - sem, y +\n",
        "                         sem, alpha=0.5)\n",
        "    print('with rec', [(i,j) for i, j in zip(x,y)])\n",
        "\n",
        "# plt.title(\"Analysis of Ham(x,x_0) and Ham(y,y_0) under %i training steps and %i recovery steps with/without Recurrence\"%(proj_time, recover_time))\n",
        "plt.xlabel('Hamming distance between input x and $x_{0}$')\n",
        "plt.ylabel('Hamming distance between assembly y and $y_{0}$')\n",
        "plt.autoscale(enable=True, axis='x', tight=False)\n",
        "plt.legend(loc='upper left')\n",
        "\n",
        "# Save the plot\n",
        "# from google.colab import drive\n",
        "# from google.colab import files\n",
        "# drive.mount('/content/gdrive')\n",
        "# images_dir = '/content/gdrive/My Drive/images'\n",
        "\n",
        "# plt.savefig(f\"{images_dir}/assem_recall.pdf\")\n",
        "# files.download(\"/content/gdrive/My Drive/images/assem_recall.pdf\")\n",
        "\n",
        "plt.show()"
      ],
      "metadata": {
        "colab": {
          "base_uri": "https://localhost:8080/",
          "height": 527
        },
        "id": "qZ_hjEd6UWRb",
        "outputId": "d13d8bdb-8062-477b-815b-3e3e5fc89144"
      },
      "execution_count": null,
      "outputs": [
        {
          "output_type": "stream",
          "name": "stdout",
          "text": [
            "without re [(0, 0.0), (2, 0.0), (4, 0.0), (6, 0.0), (8, 0.0), (10, 0.0), (12, 0.0), (14, 0.0), (16, 0.0), (18, 0.4), (20, 0.0), (22, 0.0), (24, 1.0), (26, 0.8), (28, 1.6), (30, 1.0), (32, 2.2), (34, 3.6), (36, 3.8), (38, 4.6), (40, 3.2), (42, 5.4), (44, 6.0), (46, 6.4), (48, 10.8), (50, 10.0), (52, 13.0), (54, 19.2), (56, 15.4), (58, 20.4), (60, 23.8), (62, 22.6), (64, 32.6), (66, 29.0), (68, 41.8), (70, 44.6), (72, 44.4), (74, 53.4), (76, 54.8), (78, 64.4), (80, 70.8), (82, 78.2)]\n",
            "with rec [(0, 0.0), (2, 0.0), (4, 0.0), (6, 0.0), (8, 0.0), (10, 0.0), (12, 0.0), (14, 0.0), (16, 0.0), (18, 0.0), (20, 0.0), (22, 0.0), (24, 0.2), (26, 0.2), (28, 0.0), (30, 0.2), (32, 0.0), (34, 0.4), (36, 0.4), (38, 0.0), (40, 1.2), (42, 0.6), (44, 1.0), (46, 0.8), (48, 1.6), (50, 1.6), (52, 1.4), (54, 3.0), (56, 3.8), (58, 4.4), (60, 4.0), (62, 3.0), (64, 5.6), (66, 5.0), (68, 7.6), (70, 5.0), (72, 9.0), (74, 8.4), (76, 10.6), (78, 9.6), (80, 12.6), (82, 16.6)]\n",
            "Mounted at /content/gdrive\n"
          ]
        },
        {
          "output_type": "display_data",
          "data": {
            "text/plain": [
              "<IPython.core.display.Javascript object>"
            ],
            "application/javascript": [
              "\n",
              "    async function download(id, filename, size) {\n",
              "      if (!google.colab.kernel.accessAllowed) {\n",
              "        return;\n",
              "      }\n",
              "      const div = document.createElement('div');\n",
              "      const label = document.createElement('label');\n",
              "      label.textContent = `Downloading \"${filename}\": `;\n",
              "      div.appendChild(label);\n",
              "      const progress = document.createElement('progress');\n",
              "      progress.max = size;\n",
              "      div.appendChild(progress);\n",
              "      document.body.appendChild(div);\n",
              "\n",
              "      const buffers = [];\n",
              "      let downloaded = 0;\n",
              "\n",
              "      const channel = await google.colab.kernel.comms.open(id);\n",
              "      // Send a message to notify the kernel that we're ready.\n",
              "      channel.send({})\n",
              "\n",
              "      for await (const message of channel.messages) {\n",
              "        // Send a message to notify the kernel that we're ready.\n",
              "        channel.send({})\n",
              "        if (message.buffers) {\n",
              "          for (const buffer of message.buffers) {\n",
              "            buffers.push(buffer);\n",
              "            downloaded += buffer.byteLength;\n",
              "            progress.value = downloaded;\n",
              "          }\n",
              "        }\n",
              "      }\n",
              "      const blob = new Blob(buffers, {type: 'application/binary'});\n",
              "      const a = document.createElement('a');\n",
              "      a.href = window.URL.createObjectURL(blob);\n",
              "      a.download = filename;\n",
              "      div.appendChild(a);\n",
              "      a.click();\n",
              "      div.remove();\n",
              "    }\n",
              "  "
            ]
          },
          "metadata": {}
        },
        {
          "output_type": "display_data",
          "data": {
            "text/plain": [
              "<IPython.core.display.Javascript object>"
            ],
            "application/javascript": [
              "download(\"download_58c69d9f-0d0a-412f-99b3-b5fec3e4ab7f\", \"assem_recall.pdf\", 17865)"
            ]
          },
          "metadata": {}
        },
        {
          "output_type": "display_data",
          "data": {
            "text/plain": [
              "<Figure size 640x480 with 1 Axes>"
            ],
            "image/png": "[encoded data removed]"
          },
          "metadata": {}
        }
      ]
    },
    {
      "cell_type": "markdown",
      "metadata": {
        "id": "qqW97hMkckmt"
      },
      "source": [
        "Note:\n",
        "- seems like for any (noisy) input, you always recover the same assembly.\n",
        "- assembly = \"encoding concept/entity\"\n",
        "- when looking at a diff concept, the input neural activity should be entirely different (ie. ham = 80), but then the assembly still fires."
      ]
    },
    {
      "cell_type": "markdown",
      "source": [
        "# **B) Assembly Recall: Keep Coreset and Change $p_r$ With A Class of Stimuli (using Akshay's distribution)** "
      ],
      "metadata": {
        "id": "0EbMfpsExRmg"
      }
    },
    {
      "cell_type": "markdown",
      "source": [
        "**Note on setup:** \n",
        "* $p$ =0.03, $\\beta$ = 0.05, $T_{train}$ = 40, $T_{recover}$ = 10;\n",
        "* We replicate for 10 trials per value on x-axis\n",
        "* This should have the same procedure as the module above."
      ],
      "metadata": {
        "id": "iPOpAEaAy8dl"
      }
    },
    {
      "cell_type": "code",
      "source": [
        "def assembly_recall_stream_keep_coreset(recur, T_train, T_recover):\n",
        "  B = 0.05\n",
        "  n, k = 1000, 41\n",
        "  p = 0.03\n",
        "  coreset = np.random.permutation(n)[:k]\n",
        "  x_coreset = np.zeros(n)\n",
        "  x_coreset[coreset] = 1.0\n",
        "\n",
        "  W_yx = np.random.binomial(1,p,size=(n,n)).astype(\"float64\")\n",
        "  W_yx_init = np.copy(W_yx)\n",
        "  if recur:\n",
        "    W_yy = np.random.binomial(1,p,size=(n,n)).astype(\"float64\")\n",
        "    W_yy_init = np.copy(W_yy)\n",
        "\n",
        "  y_tm1 = np.zeros(n)\n",
        "  \n",
        "  # training\n",
        "  for t in range(T_train):\n",
        "      x = generate_stimulus(n, k, 0.9, coreset=coreset)\n",
        "\n",
        "      if recur:\n",
        "        y_t = W_yx.dot(x) + W_yy.dot(y_tm1)\n",
        "        y_t = capk(y_t, k)\n",
        "\n",
        "        # plasticity modifications\n",
        "        W_yx = hebbian_update(W_yx, y_t, x, B)\n",
        "        W_yy = hebbian_update(W_yy, y_t, y_tm1, B)\n",
        "        \n",
        "        y_tm1 = np.copy(y_t)\n",
        "\n",
        "      else:\n",
        "        y_t = W_yx.dot(x)\n",
        "        y_t = capk(y_t, k)\n",
        "            \n",
        "        # plasticity modifications\n",
        "        W_yx = hebbian_update(W_yx, y_t, x, B)\n",
        "  \n",
        "  # recovering under 10 trials; calculate HM(y,y_0) each trial then average out\n",
        "  prs = [0.1,0.2,0.3,0.4,0.5,0.6,0.7,0.8,0.9]\n",
        "  result = np.zeros((len(prs), 10))\n",
        "  for j, pr in enumerate(prs):\n",
        "    print(\"recovering for pr =\", pr)\n",
        "    per_pr = []\n",
        "    for trial in tqdm(range(10)): \n",
        "      y_copy = copy.deepcopy(y_t)\n",
        "      for t in range(T_recover):\n",
        "        x = generate_stimulus(n, k, pr, coreset=coreset) #noisy stimuli\n",
        "        if recur:\n",
        "          y_tr = W_yx.dot(x) + W_yy.dot(y_copy)\n",
        "          y_tr = capk(y_tr, k)\n",
        "          y_copy = np.copy(y_tr)\n",
        "        else:\n",
        "          y_tr = W_yx.dot(x)\n",
        "          y_tr = capk(y_tr, k)\n",
        "\n",
        "        #calculate hamming distance at this step\n",
        "      per_pr.append(hamming(y_tr,y_t)*n)\n",
        "    result[j] = per_pr\n",
        "    print()\n",
        "\n",
        "  return np.mean(result, axis=1), np.std(result, axis=1)/np.sqrt(10)"
      ],
      "metadata": {
        "id": "xlRC3kUn0JpZ"
      },
      "execution_count": null,
      "outputs": []
    },
    {
      "cell_type": "code",
      "source": [
        "parameters = [True, False]\n",
        "size, both_sem = []\n",
        "prs = [0.1,0.2,0.3,0.4,0.5,0.6,0.7,0.8,0.9]\n",
        "for para in parameters:\n",
        "  total_support_size, sem = assembly_recall_stream_keep_coreset(para,40,10)\n",
        "  size.append(total_support_size)\n",
        "  both_sem.append(sem)\n",
        "\n",
        "for r, arr, sem in zip(parameters, size, both_sem):\n",
        "    if r: \n",
        "      plt.plot(prs,arr,label='With Recurrence')\n",
        "      plt.fill_between(prs, arr - sem, arr +\n",
        "                         sem, alpha=0.25)\n",
        "    else:\n",
        "      plt.plot(prs,arr,label='Without Recurrence')\n",
        "      plt.fill_between(prs, arr - sem, arr +\n",
        "                         sem, alpha=0.25)\n",
        "plt.xlabel('Fraction of stimulus neurons drawn from coreset ($p_r$)')\n",
        "plt.ylabel('Hamming distance between assemblies $y$ and $y_0$')\n",
        "plt.autoscale(enable=True, axis='both', tight=None)\n",
        "plt.legend(loc='upper left')\n",
        "\n",
        "\"\"\"save file\"\"\"\n",
        "# from google.colab import drive\n",
        "# from google.colab import files\n",
        "# drive.mount('/content/gdrive')\n",
        "# images_dir = '/content/gdrive/My Drive/images'\n",
        "# plt.savefig(f\"{images_dir}/pattern_comp_change_pr_same_coreset.pdf\")\n",
        "# files.download(\"/content/gdrive/My Drive/images/pattern_comp_change_pr_same_coreset.pdf\")\n",
        "\n",
        "plt.show()"
      ],
      "metadata": {
        "id": "KQfXKRAwCkXh"
      },
      "execution_count": null,
      "outputs": []
    },
    {
      "cell_type": "markdown",
      "source": [
        "# **C) Assembly Recall: Keep Same $p_r$ With A Coreset of Some Hamming Distance Away From the Original**"
      ],
      "metadata": {
        "id": "bsWGucqbxrIy"
      }
    },
    {
      "cell_type": "code",
      "source": [
        "def perturbate_coreset(ham_dis, coreset):\n",
        "  output = copy.deepcopy(coreset)\n",
        "  if ham_dis == 0:\n",
        "    return output\n",
        "  replace = list(np.random.permutation(len(coreset))[:ham_dis]) # elements for replacement\n",
        "  flag = len(replace)\n",
        "  while flag != 0:\n",
        "    lucky_number = random.randrange(1000)\n",
        "    if lucky_number not in coreset:\n",
        "      replace_index = replace.pop()\n",
        "      output[replace_index] = lucky_number\n",
        "      flag -= 1\n",
        "  return output"
      ],
      "metadata": {
        "id": "1LmqB3l6IEMw"
      },
      "execution_count": null,
      "outputs": []
    },
    {
      "cell_type": "code",
      "source": [
        "# test case\n",
        "coreset = np.random.permutation(40)[:10]\n",
        "print(coreset)\n",
        "print(perturbate_coreset(3, coreset))"
      ],
      "metadata": {
        "colab": {
          "base_uri": "https://localhost:8080/"
        },
        "id": "wofYtig9O314",
        "outputId": "16183026-ff9b-452b-f323-61e776deda75"
      },
      "execution_count": null,
      "outputs": [
        {
          "output_type": "stream",
          "name": "stdout",
          "text": [
            "[38 19 32 24 30  1  3  0 33 17]\n",
            "[ 38 664 771  24  30   1   3   0  33 225]\n"
          ]
        }
      ]
    },
    {
      "cell_type": "code",
      "source": [
        "def assembly_recall_stream_keep_pr(recur, T_train, T_recover):\n",
        "  B, n, k, p = 0.05, 1000, 41, 0.03\n",
        "  coreset = np.random.permutation(n)[:k]\n",
        "  x_coreset = np.zeros(n)\n",
        "  x_coreset[coreset] = 1.0\n",
        "\n",
        "  W_yx = np.random.binomial(1,p,size=(n,n)).astype(\"float64\")\n",
        "  W_yx_init = np.copy(W_yx)\n",
        "\n",
        "  if recur:\n",
        "    W_yy = np.random.binomial(1,p,size=(n,n)).astype(\"float64\")\n",
        "    W_yy_init = np.copy(W_yy)\n",
        "\n",
        "  y_tm1 = np.zeros(n)\n",
        "  \n",
        "  # training\n",
        "  for t in range(T_train):\n",
        "      x = generate_stimulus(n, k, 0.9, coreset=coreset)\n",
        "\n",
        "      if recur:\n",
        "        y_t = W_yx.dot(x) + W_yy.dot(y_tm1)\n",
        "        y_t = capk(y_t, k)\n",
        "\n",
        "        # plasticity modifications\n",
        "        W_yx = hebbian_update(W_yx, y_t, x, B)\n",
        "        W_yy = hebbian_update(W_yy, y_t, y_tm1, B)\n",
        "        y_tm1 = np.copy(y_t)\n",
        "\n",
        "      else:\n",
        "        y_t = W_yx.dot(x)\n",
        "        y_t = capk(y_t, k)\n",
        "            \n",
        "        # plasticity modifications\n",
        "        W_yx = hebbian_update(W_yx, y_t, x, B)\n",
        "  \n",
        "  # recovering under 10 trials; calculate HM(y,y_0) each trial then average out\n",
        "  ham_range = np.linspace(0, 2*k, 8).astype(int)\n",
        "  result = np.zeros((len(ham_range), 10))\n",
        "  for j, ham in enumerate(ham_range):\n",
        "    print(\"recovering for ham\", ham)\n",
        "    per_ham = []\n",
        "    for trial in tqdm(range(10)):  \n",
        "      y_copy = copy.deepcopy(y_t)\n",
        "      for t in range(T_recover):\n",
        "        # change coreset here\n",
        "        x = generate_stimulus(n, k, 0.9, coreset=perturbate_coreset(ham, coreset)) #noisy stimuli\n",
        "        if recur:\n",
        "          y_tr = W_yx.dot(x) + W_yy.dot(y_copy)\n",
        "          y_tr = capk(y_tr, k)\n",
        "          y_copy = np.copy(y_tr)\n",
        "        else:\n",
        "          y_tr = W_yx.dot(x)\n",
        "          y_tr = capk(y_tr, k)\n",
        "\n",
        "        #calculate hamming distance at this step\n",
        "      per_ham.append(hamming(y_tr,y_t)*n)\n",
        "    result[j] = per_ham\n",
        "\n",
        "  # return output\n",
        "  return np.mean(result, axis=1), np.std(result, axis=1)/np.sqrt(10)"
      ],
      "metadata": {
        "id": "QOl5gkcZyFJ2"
      },
      "execution_count": null,
      "outputs": []
    },
    {
      "cell_type": "code",
      "source": [
        "parameters = [True, False]\n",
        "size, both_sem = [], []\n",
        "ham_range = np.linspace(0, 2*41, 8).astype(int)\n",
        "for para in parameters:\n",
        "  total_support_size, sem = assembly_recall_stream_keep_pr(para,100,50)\n",
        "  size.append(total_support_size)\n",
        "  both_sem.append(sem)\n",
        "\n",
        "for r, arr, sem in zip(parameters, size, both_sem):\n",
        "    if r: \n",
        "      plt.plot(ham_range, arr,label='With Recurrence')\n",
        "      plt.fill_between(ham_range, arr - sem, arr +\n",
        "                         sem, alpha=0.25)\n",
        "    else:\n",
        "      plt.plot(ham_range, arr,label='Without Recurrence')\n",
        "      plt.fill_between(ham_range, arr - sem, arr +\n",
        "                         sem, alpha=0.25)\n",
        "plt.xlabel('Hamming distance between coresets')\n",
        "plt.ylabel('Hamming distance between assemblies $y$ and $y_0$')\n",
        "plt.autoscale(enable=True, axis='both', tight=None)\n",
        "plt.legend(loc='upper left')\n",
        "\n",
        "\"\"\"save plot\"\"\"\n",
        "# from google.colab import drive\n",
        "# from google.colab import files\n",
        "# drive.mount('/content/gdrive')\n",
        "# images_dir = '/content/gdrive/My Drive/images'\n",
        "# plt.savefig(f\"{images_dir}/assem_recall_same_pr_diff_coreset.pdf\")\n",
        "# files.download(\"/content/gdrive/My Drive/images/assem_recall_same_pr_diff_coreset.pdf\")\n",
        "\n",
        "plt.show()"
      ],
      "metadata": {
        "id": "So-BTa9HKtss"
      },
      "execution_count": null,
      "outputs": []
    }
  ]
}