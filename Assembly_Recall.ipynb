{
  "nbformat": 4,
  "nbformat_minor": 0,
  "metadata": {
    "colab": {
      "provenance": [],
      "toc_visible": true,
      "authorship_tag": "ABX9TyM4iZPyD5SVhzxkMddQiP+2",
      "include_colab_link": true
    },
    "kernelspec": {
      "name": "python3",
      "display_name": "Python 3"
    },
    "language_info": {
      "name": "python"
    }
  },
  "cells": [
    {
      "cell_type": "markdown",
      "metadata": {
        "id": "view-in-github",
        "colab_type": "text"
      },
      "source": [
        "<a href=\"https://colab.research.google.com/github/minzsiure/Variable-Binding-Capacity/blob/main/Assembly_Recall.ipynb\" target=\"_parent\"><img src=\"https://colab.research.google.com/assets/colab-badge.svg\" alt=\"Open In Colab\"/></a>"
      ]
    },
    {
      "cell_type": "markdown",
      "metadata": {
        "id": "UXUo6Pcdg74F"
      },
      "source": [
        "# **Helper Functions** "
      ]
    },
    {
      "cell_type": "markdown",
      "metadata": {
        "id": "bWnQjBEoJZE1"
      },
      "source": [
        "### Quick note on the model ###\n",
        "**Formula $capk(W_{xy}^{(t)} @ x + W_{yy}^{(t)} @ y^{(t)}) = y^{(t+1)}$**\n",
        "\n",
        "*   ##### $W_{xy}^{(t)}$: connections bw assembly $x$ and $y$ at time $t$; entry$[i,j] = 1$ represents a connection bw x_j and y_i; the entry is in {0, 1}, with probability $p$ of intializing to $1$, thus probability $(1-p)$ intialiing to $0$.\n",
        "*   ##### $W_{yy}^{(t)}$: connections within assembly y among its k neurons at time t; entry[i,j] represents connection between $y_i$ and $y_j$ where dim($W_{xy}^{(t)}$) = $n$ by $n$, dim($x$) = $n$ by $1$\n",
        "*   ##### dim ($W_{yy}^{(t)}$) = $n$ by $n$, dim($y^{(t)}$) = $n$ by $1$.\n",
        "*   ##### dim ($y^{(t+1)}$) = $n$ by $1$ (due to capping $k$, only at most $k$ nonzero entries).\n",
        "*   ##### cap/inhibition -> plasticity"
      ]
    },
    {
      "cell_type": "code",
      "execution_count": null,
      "metadata": {
        "id": "dsKgLwaYJC0b"
      },
      "outputs": [],
      "source": [
        "import numpy as np\n",
        "import matplotlib.pyplot as plt\n",
        "import copy\n",
        "import random\n",
        "from tqdm import tqdm\n",
        "from scipy.spatial.distance import hamming\n",
        "rng = np.random.default_rng()"
      ]
    },
    {
      "cell_type": "markdown",
      "metadata": {
        "id": "IiJ2lNacKjbi"
      },
      "source": [
        "**Initalization Function**"
      ]
    },
    {
      "cell_type": "code",
      "execution_count": null,
      "metadata": {
        "id": "VAgAQ_3AKl8k"
      },
      "outputs": [],
      "source": [
        "def randBin(M,N,p):\n",
        "    \"\"\"\n",
        "    initalize an M by N matrix, with each entry being 1 with a probability\n",
        "    of p and being 0 otherwise\n",
        "    \"\"\"\n",
        "    return np.random.choice([0., 1.], size=(M,N), p=[1-p, p])"
      ]
    },
    {
      "cell_type": "markdown",
      "metadata": {
        "id": "WZKD8y9ZKo6E"
      },
      "source": [
        "**Plasticity**"
      ]
    },
    {
      "cell_type": "code",
      "execution_count": null,
      "metadata": {
        "id": "ZK6P-2s_KsqJ"
      },
      "outputs": [],
      "source": [
        "def enhance(W_t, y, x, Beta, n):\n",
        "    \"\"\"\n",
        "    multiply W[i,j] by (1+Beta) if y_i(t) = 1, x_j = 1\n",
        "    keep W[i,j] otherwise\n",
        "    \n",
        "    return W_{t+1}\n",
        "    \"\"\"\n",
        "    for i in range(0, n):\n",
        "        for j in range(0, n):\n",
        "            if y[i] == 1 and x[j] == 1:\n",
        "                W_t[i][j] *= (Beta+1)\n",
        "    return W_t"
      ]
    },
    {
      "cell_type": "markdown",
      "metadata": {
        "id": "B05GEAkIsxun"
      },
      "source": [
        "**Inhibition (CAPk)**"
      ]
    },
    {
      "cell_type": "code",
      "execution_count": null,
      "metadata": {
        "id": "OcW5EVMTszkQ"
      },
      "outputs": [],
      "source": [
        "def CAPk(z,k):\n",
        "    \"\"\"\n",
        "    Given a n-dim vector z, its k largest numbers are set to 1. \n",
        "    The rest of n-k entries are set to 0.\n",
        "    \"\"\"\n",
        "    if len(np.where(z != 0)[0]) > k:\n",
        "        index = np.argsort(z)\n",
        "        z[index[:-k]] = 0\n",
        "    z[np.where(z != 0.)[0]] = 1.\n",
        "    return z"
      ]
    },
    {
      "cell_type": "markdown",
      "source": [
        "### Helper Functions for Stream of Stimuli"
      ],
      "metadata": {
        "id": "5q-YB39rsxkl"
      }
    },
    {
      "cell_type": "code",
      "source": [
        "def hebbian_update(W, out_vec, in_vec, beta):\n",
        "    for i in np.where(out_vec!=0.)[0]:\n",
        "        for j in np.where(in_vec!=0.)[0]:\n",
        "            W[i,j] *= 1. + beta\n",
        "    return W\n",
        "\n",
        "def capk(vec, k):\n",
        "    if len(np.where(vec!=0.)[0]) > k:\n",
        "        indices = np.argsort(vec)\n",
        "        vec[indices[:-k]] = 0.\n",
        "    vec[np.where(vec!=0.)[0]] = 1.0\n",
        "    return vec"
      ],
      "metadata": {
        "id": "kCR17FRclV3B"
      },
      "execution_count": null,
      "outputs": []
    },
    {
      "cell_type": "code",
      "source": [
        "def generate_stimulus(n, k, p_r, coreset=None):\n",
        "    if coreset is None:\n",
        "        coreset = np.arange(k)\n",
        "        \n",
        "    non_coreset = np.array([i for i in range(n) if i not in coreset])\n",
        "    \n",
        "    stim_idx = np.concatenate((np.random.choice(coreset, np.floor(p_r*k).astype(np.int32), replace=False), \n",
        "                               np.random.choice(non_coreset, k - np.floor(p_r*k).astype(np.int32), replace=False)))\n",
        "    x = np.zeros(n)\n",
        "    x[stim_idx] = 1.0\n",
        "    \n",
        "    return x"
      ],
      "metadata": {
        "id": "-JwFYGiGleg7"
      },
      "execution_count": null,
      "outputs": []
    },
    {
      "cell_type": "markdown",
      "metadata": {
        "id": "s_D8JN1AeLWn"
      },
      "source": [
        "# **A) Assembly Recall: Behavior of Hamming Distance Between Input and Output in Projection Recovery with Noisy Stimulus**"
      ]
    },
    {
      "cell_type": "markdown",
      "metadata": {
        "id": "PbYC1Is1kgAf"
      },
      "source": [
        "Denote $y_0$ = project($x_0$), and assembly created with stimulus input $x_0$\n",
        "*   Do project with and without recurrence\n",
        "*   Try $T = 2$ and $T = 5$ steps of random projection and cap\n",
        "*   **Goal 1:** Plot the hamming distance d_H_in($x,x_0$) VS d_H_out($y,y_0$) between $0$ and $2k$\n",
        "  *   $x$: input used to recover assembly\n",
        "  *   $x_0$: input used to create assembly\n",
        "  *   $y$: recovered assembly\n",
        "  *   $y_0$: original assembly\n",
        "*   **Goal 2:** Find the smallest $T$ such that both d_H_in and d_H_out are both $0$ \n",
        "\n",
        "\n",
        "\n",
        "\n",
        "\n",
        "\n",
        "\n"
      ]
    },
    {
      "cell_type": "markdown",
      "metadata": {
        "id": "F5n-A-KVmoU7"
      },
      "source": [
        "### Helper functions"
      ]
    },
    {
      "cell_type": "code",
      "execution_count": 24,
      "metadata": {
        "id": "sozR292ruA3L"
      },
      "outputs": [],
      "source": [
        "def create_recovery_input(ham_dis, input):\n",
        "  '''\n",
        "  a helper function for creating inputs with _ham_dis_ different entries\n",
        "  '''\n",
        "  #1. first, identify set of indices with entry = 1 and index with entry = 0\n",
        "  output = copy.deepcopy(input)\n",
        "  entry_1 = []\n",
        "  entry_0 = []\n",
        "  for i in range(len(output)):\n",
        "    if input[i] == 1.0: #if entry i is 1\n",
        "      entry_1.append(i)\n",
        "    else: #if entry i is 0\n",
        "      entry_0.append(i)\n",
        "  #2. randomly select _ham_dis_ of entry_1 to omit into 0, and _ham_dis of entry_0 to turn into 1\n",
        "  if ham_dis%2==0: #entry is even\n",
        "    UpdatedEntry1 = random.sample(entry_1, ham_dis//2)\n",
        "    UpdatedEntry0 = random.sample(entry_0, ham_dis//2) \n",
        "\n",
        "  # omit\n",
        "  for j in UpdatedEntry1:\n",
        "    output[j] = 0.0\n",
        "  for z in UpdatedEntry0:\n",
        "    output[z] = 1.0\n",
        "\n",
        "  return output"
      ]
    },
    {
      "cell_type": "code",
      "execution_count": 25,
      "metadata": {
        "colab": {
          "base_uri": "https://localhost:8080/"
        },
        "id": "RxQsjIarv9oq",
        "outputId": "7590ac87-7f80-4dbe-8f64-6c00ecf346ae"
      },
      "outputs": [
        {
          "output_type": "stream",
          "name": "stdout",
          "text": [
            "old [0. 1. 0. 0. 0. 0. 0. 0. 0. 0. 0. 0. 1. 0. 0. 0. 0. 0. 0. 0.]\n",
            "new [0. 1. 0. 1. 0. 0. 0. 0. 0. 0. 0. 0. 0. 0. 0. 0. 0. 0. 0. 0.]\n",
            "2.0\n"
          ]
        }
      ],
      "source": [
        "#test case \n",
        "n=20\n",
        "k=2\n",
        "ham_dis = 2\n",
        "x_0 = np.zeros(n)\n",
        "stim = np.random.permutation(n)[:k]\n",
        "x_0[stim] = 1.0\n",
        "print('old',x_0)\n",
        "x_hm = create_recovery_input(ham_dis,x_0)\n",
        "print('new',x_hm)\n",
        "print(hamming(x_0, x_hm)*len(x_0))"
      ]
    },
    {
      "cell_type": "markdown",
      "metadata": {
        "id": "127AILBymrP8"
      },
      "source": [
        "### Executive functions"
      ]
    },
    {
      "cell_type": "code",
      "execution_count": 26,
      "metadata": {
        "id": "nSBEFCD0eYNT"
      },
      "outputs": [],
      "source": [
        "def recover_proj_hamDist_init(n,p,k,Beta):\n",
        "    \"\"\"\n",
        "    Initialize weights, x, and y.\n",
        "    \"\"\"\n",
        "    #1. init x_0, y_0, Ws\n",
        "    x_0 = np.zeros(n)\n",
        "    stim = np.random.permutation(n)[:k]\n",
        "    x_0[stim] = 1.0\n",
        "    y_0 = np.zeros((n))\n",
        "    W_xy = randBin(n,n,p)\n",
        "    W_yy = randBin(n,n,p)\n",
        "    \n",
        "    #initialize new x and new y for recovering usage\n",
        "    x = np.zeros(n)\n",
        "    stim_x = np.random.permutation(n)[:k]\n",
        "    x[stim_x] = 1.0\n",
        "    y = np.zeros((n))\n",
        "    \n",
        "    #learned weights\n",
        "    #use those weights to do the recovery\n",
        "    return x,y,W_xy,W_yy"
      ]
    },
    {
      "cell_type": "code",
      "execution_count": 27,
      "metadata": {
        "id": "uRZlb50emLkZ"
      },
      "outputs": [],
      "source": [
        "def recover_proj_hamDist_recovering(x,y,k,Beta,W_xy,W_yy,proj_time,sampling_time,recover_time,recur):\n",
        "    W_xy_copy = copy.deepcopy(W_xy)\n",
        "    x_copy = copy.deepcopy(x)\n",
        "    if recur:\n",
        "        W_yy_copy = copy.deepcopy(W_yy)\n",
        "    y_copy = copy.deepcopy(y)\n",
        "    #2. Fire/train for _time_ steps to get y_t\n",
        "    print('Training starting...')\n",
        "    for t in tqdm(range(proj_time)):\n",
        "        if recur:\n",
        "          y_t = W_xy_copy@x_copy+(W_yy_copy@y_copy)\n",
        "        else:\n",
        "          y_t = (W_xy_copy@x_copy)\n",
        "        \n",
        "        #inhibition\n",
        "        y_t = CAPk(y_t,k)\n",
        "        #plasticity\n",
        "        W_xy_copy = enhance(W_xy_copy, y_t, x_copy, Beta, n)\n",
        "        if recur:\n",
        "          W_yy_copy = enhance(W_yy_copy, y_t, y_copy, Beta, n)\n",
        "\n",
        "        y_copy = np.copy(y_t)\n",
        "\n",
        "    #3. Try recover by measuring hamming distances d_H_out(y,y_0) and d_H_in(x,x_0)\n",
        "    # d_H_in ranges from 0 to 2*k\n",
        "    ham_dH_out_total = []\n",
        "    ham_dH_in_total = []\n",
        "    ham_range = [item for item in range(0, 2*(k+1), 2)]\n",
        "    result = np.zeros((len(ham_range), sampling_time))\n",
        "\n",
        "    for j, ham in enumerate(ham_range):\n",
        "      print(\"Recovering for ham %i...\"%(ham))\n",
        "      avg_temp = [] #a holder for averaging over all samples\n",
        "      for i in tqdm(range(sampling_time)):\n",
        "        # for each ham_dist, generate a new x, and train recovery for proj_time many steps, then calculate hamming(y_0,y)\n",
        "        y_copy_copy = copy.deepcopy(y_copy)\n",
        "        x_copy_copy = create_recovery_input(ham,x_copy) #generate new x based on current ham_dist   \n",
        "        \n",
        "        for time in range(recover_time):\n",
        "          # train for _recover_time steps\n",
        "          if recur:\n",
        "            y_t_recover = (W_xy_copy@x_copy_copy)+(W_yy_copy@y_copy_copy)\n",
        "          else:\n",
        "            y_t_recover = (W_xy_copy@x_copy_copy)\n",
        "        \n",
        "          # inhibition\n",
        "          y_t_recover = CAPk(y_t_recover,k)\n",
        "\n",
        "          y_copy_copy = np.copy(y_t_recover)\n",
        "        avg_temp.append(hamming(y_copy_copy, y_copy)*n)\n",
        "\n",
        "      result[j] = avg_temp\n",
        "      ham_dH_out_total.append(sum(avg_temp)/len(avg_temp)) # take average\n",
        "      avg_temp = []\n",
        "      ham_dH_in_total.append(ham)\n",
        "      print()\n",
        "\n",
        "    # return ham_dH_in_total, ham_dH_out_total, None\n",
        "    return ham_dH_in_total, np.mean(result, axis=1), np.std(result, axis=1)/np.sqrt(sampling_time)"
      ]
    },
    {
      "cell_type": "code",
      "execution_count": 28,
      "metadata": {
        "colab": {
          "base_uri": "https://localhost:8080/"
        },
        "id": "Xm99X1hlnR9H",
        "outputId": "c3480b84-c911-4363-d28b-395688669e01"
      },
      "outputs": [
        {
          "output_type": "stream",
          "name": "stdout",
          "text": [
            "Training starting...\n"
          ]
        },
        {
          "output_type": "stream",
          "name": "stderr",
          "text": [
            "100%|██████████| 40/40 [00:16<00:00,  2.37it/s]\n"
          ]
        },
        {
          "output_type": "stream",
          "name": "stdout",
          "text": [
            "Recovering for ham 0...\n"
          ]
        },
        {
          "output_type": "stream",
          "name": "stderr",
          "text": [
            "100%|██████████| 10/10 [00:00<00:00, 158.78it/s]\n"
          ]
        },
        {
          "output_type": "stream",
          "name": "stdout",
          "text": [
            "\n",
            "Recovering for ham 2...\n"
          ]
        },
        {
          "output_type": "stream",
          "name": "stderr",
          "text": [
            "100%|██████████| 10/10 [00:00<00:00, 119.87it/s]\n"
          ]
        },
        {
          "output_type": "stream",
          "name": "stdout",
          "text": [
            "\n",
            "Recovering for ham 4...\n"
          ]
        },
        {
          "output_type": "stream",
          "name": "stderr",
          "text": [
            "100%|██████████| 10/10 [00:00<00:00, 179.42it/s]\n"
          ]
        },
        {
          "output_type": "stream",
          "name": "stdout",
          "text": [
            "\n",
            "Recovering for ham 6...\n"
          ]
        },
        {
          "output_type": "stream",
          "name": "stderr",
          "text": [
            "100%|██████████| 10/10 [00:00<00:00, 140.82it/s]\n"
          ]
        },
        {
          "output_type": "stream",
          "name": "stdout",
          "text": [
            "\n",
            "Recovering for ham 8...\n"
          ]
        },
        {
          "output_type": "stream",
          "name": "stderr",
          "text": [
            "100%|██████████| 10/10 [00:00<00:00, 161.29it/s]\n"
          ]
        },
        {
          "output_type": "stream",
          "name": "stdout",
          "text": [
            "\n",
            "Recovering for ham 10...\n"
          ]
        },
        {
          "output_type": "stream",
          "name": "stderr",
          "text": [
            "100%|██████████| 10/10 [00:00<00:00, 171.01it/s]\n"
          ]
        },
        {
          "output_type": "stream",
          "name": "stdout",
          "text": [
            "\n",
            "Recovering for ham 12...\n"
          ]
        },
        {
          "output_type": "stream",
          "name": "stderr",
          "text": [
            "100%|██████████| 10/10 [00:00<00:00, 162.48it/s]\n"
          ]
        },
        {
          "output_type": "stream",
          "name": "stdout",
          "text": [
            "\n",
            "Recovering for ham 14...\n"
          ]
        },
        {
          "output_type": "stream",
          "name": "stderr",
          "text": [
            "100%|██████████| 10/10 [00:00<00:00, 187.55it/s]\n"
          ]
        },
        {
          "output_type": "stream",
          "name": "stdout",
          "text": [
            "\n",
            "Recovering for ham 16...\n"
          ]
        },
        {
          "output_type": "stream",
          "name": "stderr",
          "text": [
            "100%|██████████| 10/10 [00:00<00:00, 171.78it/s]\n"
          ]
        },
        {
          "output_type": "stream",
          "name": "stdout",
          "text": [
            "\n",
            "Recovering for ham 18...\n"
          ]
        },
        {
          "output_type": "stream",
          "name": "stderr",
          "text": [
            "100%|██████████| 10/10 [00:00<00:00, 180.97it/s]\n"
          ]
        },
        {
          "output_type": "stream",
          "name": "stdout",
          "text": [
            "\n",
            "Recovering for ham 20...\n"
          ]
        },
        {
          "output_type": "stream",
          "name": "stderr",
          "text": [
            "100%|██████████| 10/10 [00:00<00:00, 179.06it/s]\n"
          ]
        },
        {
          "output_type": "stream",
          "name": "stdout",
          "text": [
            "\n",
            "Recovering for ham 22...\n"
          ]
        },
        {
          "output_type": "stream",
          "name": "stderr",
          "text": [
            "100%|██████████| 10/10 [00:00<00:00, 188.37it/s]\n"
          ]
        },
        {
          "output_type": "stream",
          "name": "stdout",
          "text": [
            "\n",
            "Recovering for ham 24...\n"
          ]
        },
        {
          "output_type": "stream",
          "name": "stderr",
          "text": [
            "100%|██████████| 10/10 [00:00<00:00, 150.14it/s]\n"
          ]
        },
        {
          "output_type": "stream",
          "name": "stdout",
          "text": [
            "\n",
            "Recovering for ham 26...\n"
          ]
        },
        {
          "output_type": "stream",
          "name": "stderr",
          "text": [
            "100%|██████████| 10/10 [00:00<00:00, 187.96it/s]\n"
          ]
        },
        {
          "output_type": "stream",
          "name": "stdout",
          "text": [
            "\n",
            "Recovering for ham 28...\n"
          ]
        },
        {
          "output_type": "stream",
          "name": "stderr",
          "text": [
            "100%|██████████| 10/10 [00:00<00:00, 173.63it/s]\n"
          ]
        },
        {
          "output_type": "stream",
          "name": "stdout",
          "text": [
            "\n",
            "Recovering for ham 30...\n"
          ]
        },
        {
          "output_type": "stream",
          "name": "stderr",
          "text": [
            "100%|██████████| 10/10 [00:00<00:00, 142.24it/s]\n"
          ]
        },
        {
          "output_type": "stream",
          "name": "stdout",
          "text": [
            "\n",
            "Recovering for ham 32...\n"
          ]
        },
        {
          "output_type": "stream",
          "name": "stderr",
          "text": [
            "100%|██████████| 10/10 [00:00<00:00, 178.22it/s]\n"
          ]
        },
        {
          "output_type": "stream",
          "name": "stdout",
          "text": [
            "\n",
            "Recovering for ham 34...\n"
          ]
        },
        {
          "output_type": "stream",
          "name": "stderr",
          "text": [
            "100%|██████████| 10/10 [00:00<00:00, 147.89it/s]\n"
          ]
        },
        {
          "output_type": "stream",
          "name": "stdout",
          "text": [
            "\n",
            "Recovering for ham 36...\n"
          ]
        },
        {
          "output_type": "stream",
          "name": "stderr",
          "text": [
            "100%|██████████| 10/10 [00:00<00:00, 169.77it/s]\n"
          ]
        },
        {
          "output_type": "stream",
          "name": "stdout",
          "text": [
            "\n",
            "Recovering for ham 38...\n"
          ]
        },
        {
          "output_type": "stream",
          "name": "stderr",
          "text": [
            "100%|██████████| 10/10 [00:00<00:00, 162.43it/s]\n"
          ]
        },
        {
          "output_type": "stream",
          "name": "stdout",
          "text": [
            "\n",
            "Recovering for ham 40...\n"
          ]
        },
        {
          "output_type": "stream",
          "name": "stderr",
          "text": [
            "100%|██████████| 10/10 [00:00<00:00, 160.89it/s]\n"
          ]
        },
        {
          "output_type": "stream",
          "name": "stdout",
          "text": [
            "\n",
            "Recovering for ham 42...\n"
          ]
        },
        {
          "output_type": "stream",
          "name": "stderr",
          "text": [
            "100%|██████████| 10/10 [00:00<00:00, 140.95it/s]\n"
          ]
        },
        {
          "output_type": "stream",
          "name": "stdout",
          "text": [
            "\n",
            "Recovering for ham 44...\n"
          ]
        },
        {
          "output_type": "stream",
          "name": "stderr",
          "text": [
            "100%|██████████| 10/10 [00:00<00:00, 151.27it/s]\n"
          ]
        },
        {
          "output_type": "stream",
          "name": "stdout",
          "text": [
            "\n",
            "Recovering for ham 46...\n"
          ]
        },
        {
          "output_type": "stream",
          "name": "stderr",
          "text": [
            "100%|██████████| 10/10 [00:00<00:00, 176.21it/s]\n"
          ]
        },
        {
          "output_type": "stream",
          "name": "stdout",
          "text": [
            "\n",
            "Recovering for ham 48...\n"
          ]
        },
        {
          "output_type": "stream",
          "name": "stderr",
          "text": [
            "100%|██████████| 10/10 [00:00<00:00, 168.78it/s]\n"
          ]
        },
        {
          "output_type": "stream",
          "name": "stdout",
          "text": [
            "\n",
            "Recovering for ham 50...\n"
          ]
        },
        {
          "output_type": "stream",
          "name": "stderr",
          "text": [
            "100%|██████████| 10/10 [00:00<00:00, 133.93it/s]\n"
          ]
        },
        {
          "output_type": "stream",
          "name": "stdout",
          "text": [
            "\n",
            "Recovering for ham 52...\n"
          ]
        },
        {
          "output_type": "stream",
          "name": "stderr",
          "text": [
            "100%|██████████| 10/10 [00:00<00:00, 153.34it/s]\n"
          ]
        },
        {
          "output_type": "stream",
          "name": "stdout",
          "text": [
            "\n",
            "Recovering for ham 54...\n"
          ]
        },
        {
          "output_type": "stream",
          "name": "stderr",
          "text": [
            "100%|██████████| 10/10 [00:00<00:00, 146.92it/s]\n"
          ]
        },
        {
          "output_type": "stream",
          "name": "stdout",
          "text": [
            "\n",
            "Recovering for ham 56...\n"
          ]
        },
        {
          "output_type": "stream",
          "name": "stderr",
          "text": [
            "100%|██████████| 10/10 [00:00<00:00, 133.51it/s]\n"
          ]
        },
        {
          "output_type": "stream",
          "name": "stdout",
          "text": [
            "\n",
            "Recovering for ham 58...\n"
          ]
        },
        {
          "output_type": "stream",
          "name": "stderr",
          "text": [
            "100%|██████████| 10/10 [00:00<00:00, 103.84it/s]\n"
          ]
        },
        {
          "output_type": "stream",
          "name": "stdout",
          "text": [
            "\n",
            "Recovering for ham 60...\n"
          ]
        },
        {
          "output_type": "stream",
          "name": "stderr",
          "text": [
            "100%|██████████| 10/10 [00:00<00:00, 150.95it/s]\n"
          ]
        },
        {
          "output_type": "stream",
          "name": "stdout",
          "text": [
            "\n",
            "Recovering for ham 62...\n"
          ]
        },
        {
          "output_type": "stream",
          "name": "stderr",
          "text": [
            "100%|██████████| 10/10 [00:00<00:00, 162.31it/s]\n"
          ]
        },
        {
          "output_type": "stream",
          "name": "stdout",
          "text": [
            "\n",
            "Recovering for ham 64...\n"
          ]
        },
        {
          "output_type": "stream",
          "name": "stderr",
          "text": [
            "100%|██████████| 10/10 [00:00<00:00, 170.96it/s]\n"
          ]
        },
        {
          "output_type": "stream",
          "name": "stdout",
          "text": [
            "\n",
            "Recovering for ham 66...\n"
          ]
        },
        {
          "output_type": "stream",
          "name": "stderr",
          "text": [
            "100%|██████████| 10/10 [00:00<00:00, 163.23it/s]\n"
          ]
        },
        {
          "output_type": "stream",
          "name": "stdout",
          "text": [
            "\n",
            "Recovering for ham 68...\n"
          ]
        },
        {
          "output_type": "stream",
          "name": "stderr",
          "text": [
            "100%|██████████| 10/10 [00:00<00:00, 162.52it/s]\n"
          ]
        },
        {
          "output_type": "stream",
          "name": "stdout",
          "text": [
            "\n",
            "Recovering for ham 70...\n"
          ]
        },
        {
          "output_type": "stream",
          "name": "stderr",
          "text": [
            "100%|██████████| 10/10 [00:00<00:00, 166.86it/s]\n"
          ]
        },
        {
          "output_type": "stream",
          "name": "stdout",
          "text": [
            "\n",
            "Recovering for ham 72...\n"
          ]
        },
        {
          "output_type": "stream",
          "name": "stderr",
          "text": [
            "100%|██████████| 10/10 [00:00<00:00, 140.11it/s]\n"
          ]
        },
        {
          "output_type": "stream",
          "name": "stdout",
          "text": [
            "\n",
            "Recovering for ham 74...\n"
          ]
        },
        {
          "output_type": "stream",
          "name": "stderr",
          "text": [
            "100%|██████████| 10/10 [00:00<00:00, 176.08it/s]\n"
          ]
        },
        {
          "output_type": "stream",
          "name": "stdout",
          "text": [
            "\n",
            "Recovering for ham 76...\n"
          ]
        },
        {
          "output_type": "stream",
          "name": "stderr",
          "text": [
            "100%|██████████| 10/10 [00:00<00:00, 184.34it/s]\n"
          ]
        },
        {
          "output_type": "stream",
          "name": "stdout",
          "text": [
            "\n",
            "Recovering for ham 78...\n"
          ]
        },
        {
          "output_type": "stream",
          "name": "stderr",
          "text": [
            "100%|██████████| 10/10 [00:00<00:00, 189.30it/s]\n"
          ]
        },
        {
          "output_type": "stream",
          "name": "stdout",
          "text": [
            "\n",
            "Recovering for ham 80...\n"
          ]
        },
        {
          "output_type": "stream",
          "name": "stderr",
          "text": [
            "100%|██████████| 10/10 [00:00<00:00, 141.83it/s]\n"
          ]
        },
        {
          "output_type": "stream",
          "name": "stdout",
          "text": [
            "\n",
            "Recovering for ham 82...\n"
          ]
        },
        {
          "output_type": "stream",
          "name": "stderr",
          "text": [
            "100%|██████████| 10/10 [00:00<00:00, 169.89it/s]\n"
          ]
        },
        {
          "output_type": "stream",
          "name": "stdout",
          "text": [
            "\n",
            "Training starting...\n"
          ]
        },
        {
          "output_type": "stream",
          "name": "stderr",
          "text": [
            "100%|██████████| 40/40 [00:32<00:00,  1.24it/s]\n"
          ]
        },
        {
          "output_type": "stream",
          "name": "stdout",
          "text": [
            "Recovering for ham 0...\n"
          ]
        },
        {
          "output_type": "stream",
          "name": "stderr",
          "text": [
            "100%|██████████| 10/10 [00:00<00:00, 104.04it/s]\n"
          ]
        },
        {
          "output_type": "stream",
          "name": "stdout",
          "text": [
            "\n",
            "Recovering for ham 2...\n"
          ]
        },
        {
          "output_type": "stream",
          "name": "stderr",
          "text": [
            "100%|██████████| 10/10 [00:00<00:00, 100.12it/s]\n"
          ]
        },
        {
          "output_type": "stream",
          "name": "stdout",
          "text": [
            "\n",
            "Recovering for ham 4...\n"
          ]
        },
        {
          "output_type": "stream",
          "name": "stderr",
          "text": [
            "100%|██████████| 10/10 [00:00<00:00, 83.62it/s]\n"
          ]
        },
        {
          "output_type": "stream",
          "name": "stdout",
          "text": [
            "\n",
            "Recovering for ham 6...\n"
          ]
        },
        {
          "output_type": "stream",
          "name": "stderr",
          "text": [
            "100%|██████████| 10/10 [00:00<00:00, 100.45it/s]\n"
          ]
        },
        {
          "output_type": "stream",
          "name": "stdout",
          "text": [
            "\n",
            "Recovering for ham 8...\n"
          ]
        },
        {
          "output_type": "stream",
          "name": "stderr",
          "text": [
            "100%|██████████| 10/10 [00:00<00:00, 95.58it/s]\n"
          ]
        },
        {
          "output_type": "stream",
          "name": "stdout",
          "text": [
            "\n",
            "Recovering for ham 10...\n"
          ]
        },
        {
          "output_type": "stream",
          "name": "stderr",
          "text": [
            "100%|██████████| 10/10 [00:00<00:00, 80.33it/s]\n"
          ]
        },
        {
          "output_type": "stream",
          "name": "stdout",
          "text": [
            "\n",
            "Recovering for ham 12...\n"
          ]
        },
        {
          "output_type": "stream",
          "name": "stderr",
          "text": [
            "100%|██████████| 10/10 [00:00<00:00, 85.41it/s]\n"
          ]
        },
        {
          "output_type": "stream",
          "name": "stdout",
          "text": [
            "\n",
            "Recovering for ham 14...\n"
          ]
        },
        {
          "output_type": "stream",
          "name": "stderr",
          "text": [
            "100%|██████████| 10/10 [00:00<00:00, 79.72it/s]\n"
          ]
        },
        {
          "output_type": "stream",
          "name": "stdout",
          "text": [
            "\n",
            "Recovering for ham 16...\n"
          ]
        },
        {
          "output_type": "stream",
          "name": "stderr",
          "text": [
            "100%|██████████| 10/10 [00:00<00:00, 70.21it/s]\n"
          ]
        },
        {
          "output_type": "stream",
          "name": "stdout",
          "text": [
            "\n",
            "Recovering for ham 18...\n"
          ]
        },
        {
          "output_type": "stream",
          "name": "stderr",
          "text": [
            "100%|██████████| 10/10 [00:00<00:00, 94.40it/s]\n"
          ]
        },
        {
          "output_type": "stream",
          "name": "stdout",
          "text": [
            "\n",
            "Recovering for ham 20...\n"
          ]
        },
        {
          "output_type": "stream",
          "name": "stderr",
          "text": [
            "100%|██████████| 10/10 [00:00<00:00, 95.05it/s]\n"
          ]
        },
        {
          "output_type": "stream",
          "name": "stdout",
          "text": [
            "\n",
            "Recovering for ham 22...\n"
          ]
        },
        {
          "output_type": "stream",
          "name": "stderr",
          "text": [
            "100%|██████████| 10/10 [00:00<00:00, 92.24it/s]\n"
          ]
        },
        {
          "output_type": "stream",
          "name": "stdout",
          "text": [
            "\n",
            "Recovering for ham 24...\n"
          ]
        },
        {
          "output_type": "stream",
          "name": "stderr",
          "text": [
            "100%|██████████| 10/10 [00:00<00:00, 89.80it/s]\n"
          ]
        },
        {
          "output_type": "stream",
          "name": "stdout",
          "text": [
            "\n",
            "Recovering for ham 26...\n"
          ]
        },
        {
          "output_type": "stream",
          "name": "stderr",
          "text": [
            "100%|██████████| 10/10 [00:00<00:00, 92.88it/s]\n"
          ]
        },
        {
          "output_type": "stream",
          "name": "stdout",
          "text": [
            "\n",
            "Recovering for ham 28...\n"
          ]
        },
        {
          "output_type": "stream",
          "name": "stderr",
          "text": [
            "100%|██████████| 10/10 [00:00<00:00, 68.65it/s]\n"
          ]
        },
        {
          "output_type": "stream",
          "name": "stdout",
          "text": [
            "\n",
            "Recovering for ham 30...\n"
          ]
        },
        {
          "output_type": "stream",
          "name": "stderr",
          "text": [
            "100%|██████████| 10/10 [00:00<00:00, 96.49it/s]\n"
          ]
        },
        {
          "output_type": "stream",
          "name": "stdout",
          "text": [
            "\n",
            "Recovering for ham 32...\n"
          ]
        },
        {
          "output_type": "stream",
          "name": "stderr",
          "text": [
            "100%|██████████| 10/10 [00:00<00:00, 79.04it/s]\n"
          ]
        },
        {
          "output_type": "stream",
          "name": "stdout",
          "text": [
            "\n",
            "Recovering for ham 34...\n"
          ]
        },
        {
          "output_type": "stream",
          "name": "stderr",
          "text": [
            "100%|██████████| 10/10 [00:00<00:00, 92.93it/s]\n"
          ]
        },
        {
          "output_type": "stream",
          "name": "stdout",
          "text": [
            "\n",
            "Recovering for ham 36...\n"
          ]
        },
        {
          "output_type": "stream",
          "name": "stderr",
          "text": [
            "100%|██████████| 10/10 [00:00<00:00, 91.52it/s]\n"
          ]
        },
        {
          "output_type": "stream",
          "name": "stdout",
          "text": [
            "\n",
            "Recovering for ham 38...\n"
          ]
        },
        {
          "output_type": "stream",
          "name": "stderr",
          "text": [
            "100%|██████████| 10/10 [00:00<00:00, 16.94it/s]\n"
          ]
        },
        {
          "output_type": "stream",
          "name": "stdout",
          "text": [
            "\n",
            "Recovering for ham 40...\n"
          ]
        },
        {
          "output_type": "stream",
          "name": "stderr",
          "text": [
            "100%|██████████| 10/10 [00:00<00:00, 82.37it/s]\n"
          ]
        },
        {
          "output_type": "stream",
          "name": "stdout",
          "text": [
            "\n",
            "Recovering for ham 42...\n"
          ]
        },
        {
          "output_type": "stream",
          "name": "stderr",
          "text": [
            "100%|██████████| 10/10 [00:00<00:00, 87.86it/s]\n"
          ]
        },
        {
          "output_type": "stream",
          "name": "stdout",
          "text": [
            "\n",
            "Recovering for ham 44...\n"
          ]
        },
        {
          "output_type": "stream",
          "name": "stderr",
          "text": [
            "100%|██████████| 10/10 [00:00<00:00, 74.55it/s]\n"
          ]
        },
        {
          "output_type": "stream",
          "name": "stdout",
          "text": [
            "\n",
            "Recovering for ham 46...\n"
          ]
        },
        {
          "output_type": "stream",
          "name": "stderr",
          "text": [
            "100%|██████████| 10/10 [00:00<00:00, 100.25it/s]\n"
          ]
        },
        {
          "output_type": "stream",
          "name": "stdout",
          "text": [
            "\n",
            "Recovering for ham 48...\n"
          ]
        },
        {
          "output_type": "stream",
          "name": "stderr",
          "text": [
            "100%|██████████| 10/10 [00:00<00:00, 75.15it/s]\n"
          ]
        },
        {
          "output_type": "stream",
          "name": "stdout",
          "text": [
            "\n",
            "Recovering for ham 50...\n"
          ]
        },
        {
          "output_type": "stream",
          "name": "stderr",
          "text": [
            "100%|██████████| 10/10 [00:00<00:00, 99.60it/s]\n"
          ]
        },
        {
          "output_type": "stream",
          "name": "stdout",
          "text": [
            "\n",
            "Recovering for ham 52...\n"
          ]
        },
        {
          "output_type": "stream",
          "name": "stderr",
          "text": [
            "100%|██████████| 10/10 [00:00<00:00, 74.58it/s]\n"
          ]
        },
        {
          "output_type": "stream",
          "name": "stdout",
          "text": [
            "\n",
            "Recovering for ham 54...\n"
          ]
        },
        {
          "output_type": "stream",
          "name": "stderr",
          "text": [
            "100%|██████████| 10/10 [00:00<00:00, 108.52it/s]\n"
          ]
        },
        {
          "output_type": "stream",
          "name": "stdout",
          "text": [
            "\n",
            "Recovering for ham 56...\n"
          ]
        },
        {
          "output_type": "stream",
          "name": "stderr",
          "text": [
            "100%|██████████| 10/10 [00:00<00:00, 91.28it/s]\n"
          ]
        },
        {
          "output_type": "stream",
          "name": "stdout",
          "text": [
            "\n",
            "Recovering for ham 58...\n"
          ]
        },
        {
          "output_type": "stream",
          "name": "stderr",
          "text": [
            "100%|██████████| 10/10 [00:00<00:00, 90.69it/s]\n"
          ]
        },
        {
          "output_type": "stream",
          "name": "stdout",
          "text": [
            "\n",
            "Recovering for ham 60...\n"
          ]
        },
        {
          "output_type": "stream",
          "name": "stderr",
          "text": [
            "100%|██████████| 10/10 [00:00<00:00, 92.85it/s]\n"
          ]
        },
        {
          "output_type": "stream",
          "name": "stdout",
          "text": [
            "\n",
            "Recovering for ham 62...\n"
          ]
        },
        {
          "output_type": "stream",
          "name": "stderr",
          "text": [
            "100%|██████████| 10/10 [00:00<00:00, 73.03it/s]\n"
          ]
        },
        {
          "output_type": "stream",
          "name": "stdout",
          "text": [
            "\n",
            "Recovering for ham 64...\n"
          ]
        },
        {
          "output_type": "stream",
          "name": "stderr",
          "text": [
            "100%|██████████| 10/10 [00:00<00:00, 101.59it/s]\n"
          ]
        },
        {
          "output_type": "stream",
          "name": "stdout",
          "text": [
            "\n",
            "Recovering for ham 66...\n"
          ]
        },
        {
          "output_type": "stream",
          "name": "stderr",
          "text": [
            "100%|██████████| 10/10 [00:00<00:00, 91.55it/s]\n"
          ]
        },
        {
          "output_type": "stream",
          "name": "stdout",
          "text": [
            "\n",
            "Recovering for ham 68...\n"
          ]
        },
        {
          "output_type": "stream",
          "name": "stderr",
          "text": [
            "100%|██████████| 10/10 [00:00<00:00, 75.14it/s]\n"
          ]
        },
        {
          "output_type": "stream",
          "name": "stdout",
          "text": [
            "\n",
            "Recovering for ham 70...\n"
          ]
        },
        {
          "output_type": "stream",
          "name": "stderr",
          "text": [
            "100%|██████████| 10/10 [00:00<00:00, 82.83it/s]\n"
          ]
        },
        {
          "output_type": "stream",
          "name": "stdout",
          "text": [
            "\n",
            "Recovering for ham 72...\n"
          ]
        },
        {
          "output_type": "stream",
          "name": "stderr",
          "text": [
            "100%|██████████| 10/10 [00:00<00:00, 102.00it/s]\n"
          ]
        },
        {
          "output_type": "stream",
          "name": "stdout",
          "text": [
            "\n",
            "Recovering for ham 74...\n"
          ]
        },
        {
          "output_type": "stream",
          "name": "stderr",
          "text": [
            "100%|██████████| 10/10 [00:00<00:00, 90.36it/s]\n"
          ]
        },
        {
          "output_type": "stream",
          "name": "stdout",
          "text": [
            "\n",
            "Recovering for ham 76...\n"
          ]
        },
        {
          "output_type": "stream",
          "name": "stderr",
          "text": [
            "100%|██████████| 10/10 [00:00<00:00, 92.96it/s]\n"
          ]
        },
        {
          "output_type": "stream",
          "name": "stdout",
          "text": [
            "\n",
            "Recovering for ham 78...\n"
          ]
        },
        {
          "output_type": "stream",
          "name": "stderr",
          "text": [
            "100%|██████████| 10/10 [00:00<00:00, 77.51it/s]\n"
          ]
        },
        {
          "output_type": "stream",
          "name": "stdout",
          "text": [
            "\n",
            "Recovering for ham 80...\n"
          ]
        },
        {
          "output_type": "stream",
          "name": "stderr",
          "text": [
            "100%|██████████| 10/10 [00:00<00:00, 90.14it/s]\n"
          ]
        },
        {
          "output_type": "stream",
          "name": "stdout",
          "text": [
            "\n",
            "Recovering for ham 82...\n"
          ]
        },
        {
          "output_type": "stream",
          "name": "stderr",
          "text": [
            "100%|██████████| 10/10 [00:00<00:00, 90.95it/s]"
          ]
        },
        {
          "output_type": "stream",
          "name": "stdout",
          "text": [
            "\n"
          ]
        },
        {
          "output_type": "stream",
          "name": "stderr",
          "text": [
            "\n"
          ]
        }
      ],
      "source": [
        "rec = [False,True]\n",
        "n, k, Beta, p =1000, 41, 0.05, 0.03\n",
        "proj_time, recover_time, sampling_time = 40, 10, 10\n",
        "\n",
        "size_in, size_out, size_sem = [], [],[]\n",
        "x,y,W_xy,W_yy = recover_proj_hamDist_init(n,p,k,Beta)\n",
        "\n",
        "for r in rec:\n",
        "  ham_in, ham_out, sem = recover_proj_hamDist_recovering(x,y,k,Beta,W_xy,W_yy,proj_time,sampling_time,recover_time,r)\n",
        "  size_in.append(ham_in)\n",
        "  size_out.append(ham_out)\n",
        "  size_sem.append(sem)"
      ]
    },
    {
      "cell_type": "code",
      "source": [
        "for x, y, sem, re in zip(size_in, size_out, size_sem, rec):\n",
        "  if re == False:\n",
        "    plt.plot(x,y,label='Without Recurrence')\n",
        "    plt.fill_between(x, y - sem, y +\n",
        "                         sem, alpha=0.25)\n",
        "  else:\n",
        "    plt.plot(x,y,label='With Recurrence')\n",
        "    plt.fill_between(x, y - sem, y +\n",
        "                         sem, alpha=0.5)\n",
        "\n",
        "# plt.title(\"Analysis of Ham(x,x_0) and Ham(y,y_0) under %i training steps and %i recovery steps with/without Recurrence\"%(proj_time, recover_time))\n",
        "plt.xlabel('Hamming distance between input x and $x_{0}$')\n",
        "plt.ylabel('Hamming distance between assembly y and $y_{0}$')\n",
        "plt.autoscale(enable=True, axis='x', tight=False)\n",
        "plt.legend(loc='upper left')\n",
        "\n",
        "# Save the plot\n",
        "# from google.colab import drive\n",
        "# from google.colab import files\n",
        "# drive.mount('/content/gdrive')\n",
        "# images_dir = '/content/gdrive/My Drive/images'\n",
        "\n",
        "# plt.savefig(f\"{images_dir}/assem_recall.pdf\")\n",
        "# files.download(\"/content/gdrive/My Drive/images/assem_recall.pdf\")\n",
        "\n",
        "plt.show()"
      ],
      "metadata": {
        "colab": {
          "base_uri": "https://localhost:8080/",
          "height": 453
        },
        "id": "qZ_hjEd6UWRb",
        "outputId": "82499852-c77c-4d15-ae67-4cab95e1a7c7"
      },
      "execution_count": 29,
      "outputs": [
        {
          "output_type": "display_data",
          "data": {
            "text/plain": [
              "<Figure size 640x480 with 1 Axes>"
            ],
            "image/png": "[encoded data removed]"
          },
          "metadata": {}
        }
      ]
    },
    {
      "cell_type": "markdown",
      "metadata": {
        "id": "qqW97hMkckmt"
      },
      "source": [
        "Note:\n",
        "- seems like for any (noisy) input, you always recover the same assembly.\n",
        "- assembly = \"encoding concept/entity\"\n",
        "- when looking at a diff concept, the input neural activity should be entirely different (ie. ham = 80), but then the assembly still fires."
      ]
    },
    {
      "cell_type": "markdown",
      "source": [
        "# **B) Assembly Recall: Keep Coreset and Change $p_r$ With A Class of Stimuli** "
      ],
      "metadata": {
        "id": "0EbMfpsExRmg"
      }
    },
    {
      "cell_type": "markdown",
      "source": [
        "**Note on setup:** \n",
        "* $p$ =0.03, $\\beta$ = 0.05, $T_{train}$ = 40, $T_{recover}$ = 10;\n",
        "* We replicate for $10$ trials per value on x-axis\n",
        "* This should have the same procedure as the module above."
      ],
      "metadata": {
        "id": "iPOpAEaAy8dl"
      }
    },
    {
      "cell_type": "code",
      "source": [
        "def assembly_recall_stream_keep_coreset(recur, T_train, T_recover):\n",
        "  B = 0.05\n",
        "  n, k = 1000, 41\n",
        "  p = 0.03\n",
        "  coreset = np.random.permutation(n)[:k]\n",
        "  x_coreset = np.zeros(n)\n",
        "  x_coreset[coreset] = 1.0\n",
        "\n",
        "  W_yx = np.random.binomial(1,p,size=(n,n)).astype(\"float64\")\n",
        "  W_yx_init = np.copy(W_yx)\n",
        "  if recur:\n",
        "    W_yy = np.random.binomial(1,p,size=(n,n)).astype(\"float64\")\n",
        "    W_yy_init = np.copy(W_yy)\n",
        "\n",
        "  y_tm1 = np.zeros(n)\n",
        "  \n",
        "  # training\n",
        "  print('Training starting...')\n",
        "  for t in tqdm(range(T_train)):\n",
        "      x = generate_stimulus(n, k, 0.9, coreset=coreset)\n",
        "\n",
        "      if recur:\n",
        "        y_t = W_yx.dot(x) + W_yy.dot(y_tm1)\n",
        "        y_t = capk(y_t, k)\n",
        "\n",
        "        # plasticity modifications\n",
        "        W_yx = hebbian_update(W_yx, y_t, x, B)\n",
        "        W_yy = hebbian_update(W_yy, y_t, y_tm1, B)\n",
        "        \n",
        "        y_tm1 = np.copy(y_t)\n",
        "\n",
        "      else:\n",
        "        y_t = W_yx.dot(x)\n",
        "        y_t = capk(y_t, k)\n",
        "            \n",
        "        # plasticity modifications\n",
        "        W_yx = hebbian_update(W_yx, y_t, x, B)\n",
        "  \n",
        "  # recovering under 10 trials; calculate HM(y,y_0) each trial then average out\n",
        "  prs = [0.1,0.2,0.3,0.4,0.5,0.6,0.7,0.8,0.9]\n",
        "  result = np.zeros((len(prs), 10))\n",
        "  for j, pr in enumerate(prs):\n",
        "    print(\"recovering for pr =\", pr)\n",
        "    per_pr = []\n",
        "    for trial in tqdm(range(10)): \n",
        "      y_copy = copy.deepcopy(y_t)\n",
        "      for t in range(T_recover):\n",
        "        x = generate_stimulus(n, k, pr, coreset=coreset) #noisy stimuli\n",
        "        if recur:\n",
        "          y_tr = W_yx.dot(x) + W_yy.dot(y_copy)\n",
        "          y_tr = capk(y_tr, k)\n",
        "          y_copy = np.copy(y_tr)\n",
        "        else:\n",
        "          y_tr = W_yx.dot(x)\n",
        "          y_tr = capk(y_tr, k)\n",
        "\n",
        "        #calculate hamming distance at this step\n",
        "      per_pr.append(hamming(y_tr,y_t)*n)\n",
        "    result[j] = per_pr\n",
        "    print()\n",
        "\n",
        "  return np.mean(result, axis=1), np.std(result, axis=1)/np.sqrt(10)"
      ],
      "metadata": {
        "id": "xlRC3kUn0JpZ"
      },
      "execution_count": 30,
      "outputs": []
    },
    {
      "cell_type": "code",
      "source": [
        "parameters, both_avg, both_sem  = [True, False], [], []\n",
        "prs = [0.1,0.2,0.3,0.4,0.5,0.6,0.7,0.8,0.9] \n",
        "for para in parameters:\n",
        "  avg, sem = assembly_recall_stream_keep_coreset(para,40,10)\n",
        "  both_avg.append(avg)\n",
        "  both_sem.append(sem)\n",
        "\n",
        "for recurr, avg, sem in zip(parameters, both_avg, both_sem):\n",
        "    if recurr: \n",
        "      plt.plot(prs,avg,label='With Recurrence')\n",
        "      plt.fill_between(prs, avg - sem, avg +\n",
        "                         sem, alpha=0.25)\n",
        "    else:\n",
        "      plt.plot(prs,avg,label='Without Recurrence')\n",
        "      plt.fill_between(prs, avg - sem, avg +\n",
        "                         sem, alpha=0.25)\n",
        "plt.xlabel('Fraction of stimulus neurons drawn from coreset ($p_r$)')\n",
        "plt.ylabel('Hamming distance between assemblies $y$ and $y_0$')\n",
        "plt.autoscale(enable=True, axis='both', tight=None)\n",
        "plt.legend(loc='upper left')\n",
        "\n",
        "\"\"\"save file\"\"\"\n",
        "# from google.colab import drive\n",
        "# from google.colab import files\n",
        "# drive.mount('/content/gdrive')\n",
        "# images_dir = '/content/gdrive/My Drive/images'\n",
        "# plt.savefig(f\"{images_dir}/pattern_comp_change_pr_same_coreset.pdf\")\n",
        "# files.download(\"/content/gdrive/My Drive/images/pattern_comp_change_pr_same_coreset.pdf\")\n",
        "\n",
        "plt.show()"
      ],
      "metadata": {
        "id": "KQfXKRAwCkXh",
        "colab": {
          "base_uri": "https://localhost:8080/",
          "height": 1000
        },
        "outputId": "1f3b42b0-5b80-4e89-bab4-c6971f59ed28"
      },
      "execution_count": 32,
      "outputs": [
        {
          "output_type": "stream",
          "name": "stdout",
          "text": [
            "recovering for pr = 0.1\n"
          ]
        },
        {
          "output_type": "stream",
          "name": "stderr",
          "text": [
            "100%|██████████| 10/10 [00:01<00:00,  6.62it/s]\n"
          ]
        },
        {
          "output_type": "stream",
          "name": "stdout",
          "text": [
            "\n",
            "recovering for pr = 0.2\n"
          ]
        },
        {
          "output_type": "stream",
          "name": "stderr",
          "text": [
            "100%|██████████| 10/10 [00:01<00:00,  7.63it/s]\n"
          ]
        },
        {
          "output_type": "stream",
          "name": "stdout",
          "text": [
            "\n",
            "recovering for pr = 0.3\n"
          ]
        },
        {
          "output_type": "stream",
          "name": "stderr",
          "text": [
            "100%|██████████| 10/10 [00:01<00:00,  7.19it/s]\n"
          ]
        },
        {
          "output_type": "stream",
          "name": "stdout",
          "text": [
            "\n",
            "recovering for pr = 0.4\n"
          ]
        },
        {
          "output_type": "stream",
          "name": "stderr",
          "text": [
            "100%|██████████| 10/10 [00:01<00:00,  6.43it/s]\n"
          ]
        },
        {
          "output_type": "stream",
          "name": "stdout",
          "text": [
            "\n",
            "recovering for pr = 0.5\n"
          ]
        },
        {
          "output_type": "stream",
          "name": "stderr",
          "text": [
            "100%|██████████| 10/10 [00:01<00:00,  6.57it/s]\n"
          ]
        },
        {
          "output_type": "stream",
          "name": "stdout",
          "text": [
            "\n",
            "recovering for pr = 0.6\n"
          ]
        },
        {
          "output_type": "stream",
          "name": "stderr",
          "text": [
            "100%|██████████| 10/10 [00:00<00:00, 12.54it/s]\n"
          ]
        },
        {
          "output_type": "stream",
          "name": "stdout",
          "text": [
            "\n",
            "recovering for pr = 0.7\n"
          ]
        },
        {
          "output_type": "stream",
          "name": "stderr",
          "text": [
            "100%|██████████| 10/10 [00:00<00:00, 12.31it/s]\n"
          ]
        },
        {
          "output_type": "stream",
          "name": "stdout",
          "text": [
            "\n",
            "recovering for pr = 0.8\n"
          ]
        },
        {
          "output_type": "stream",
          "name": "stderr",
          "text": [
            "100%|██████████| 10/10 [00:00<00:00, 12.73it/s]\n"
          ]
        },
        {
          "output_type": "stream",
          "name": "stdout",
          "text": [
            "\n",
            "recovering for pr = 0.9\n"
          ]
        },
        {
          "output_type": "stream",
          "name": "stderr",
          "text": [
            "100%|██████████| 10/10 [00:00<00:00, 11.86it/s]\n"
          ]
        },
        {
          "output_type": "stream",
          "name": "stdout",
          "text": [
            "\n",
            "recovering for pr = 0.1\n"
          ]
        },
        {
          "output_type": "stream",
          "name": "stderr",
          "text": [
            "100%|██████████| 10/10 [00:00<00:00, 14.22it/s]\n"
          ]
        },
        {
          "output_type": "stream",
          "name": "stdout",
          "text": [
            "\n",
            "recovering for pr = 0.2\n"
          ]
        },
        {
          "output_type": "stream",
          "name": "stderr",
          "text": [
            "100%|██████████| 10/10 [00:00<00:00, 13.74it/s]\n"
          ]
        },
        {
          "output_type": "stream",
          "name": "stdout",
          "text": [
            "\n",
            "recovering for pr = 0.3\n"
          ]
        },
        {
          "output_type": "stream",
          "name": "stderr",
          "text": [
            "100%|██████████| 10/10 [00:00<00:00, 12.84it/s]\n"
          ]
        },
        {
          "output_type": "stream",
          "name": "stdout",
          "text": [
            "\n",
            "recovering for pr = 0.4\n"
          ]
        },
        {
          "output_type": "stream",
          "name": "stderr",
          "text": [
            "100%|██████████| 10/10 [00:00<00:00, 13.05it/s]\n"
          ]
        },
        {
          "output_type": "stream",
          "name": "stdout",
          "text": [
            "\n",
            "recovering for pr = 0.5\n"
          ]
        },
        {
          "output_type": "stream",
          "name": "stderr",
          "text": [
            "100%|██████████| 10/10 [00:00<00:00, 13.15it/s]\n"
          ]
        },
        {
          "output_type": "stream",
          "name": "stdout",
          "text": [
            "\n",
            "recovering for pr = 0.6\n"
          ]
        },
        {
          "output_type": "stream",
          "name": "stderr",
          "text": [
            "100%|██████████| 10/10 [00:00<00:00, 13.68it/s]\n"
          ]
        },
        {
          "output_type": "stream",
          "name": "stdout",
          "text": [
            "\n",
            "recovering for pr = 0.7\n"
          ]
        },
        {
          "output_type": "stream",
          "name": "stderr",
          "text": [
            "100%|██████████| 10/10 [00:00<00:00, 12.77it/s]\n"
          ]
        },
        {
          "output_type": "stream",
          "name": "stdout",
          "text": [
            "\n",
            "recovering for pr = 0.8\n"
          ]
        },
        {
          "output_type": "stream",
          "name": "stderr",
          "text": [
            "100%|██████████| 10/10 [00:01<00:00,  9.50it/s]\n"
          ]
        },
        {
          "output_type": "stream",
          "name": "stdout",
          "text": [
            "\n",
            "recovering for pr = 0.9\n"
          ]
        },
        {
          "output_type": "stream",
          "name": "stderr",
          "text": [
            "100%|██████████| 10/10 [00:01<00:00,  6.30it/s]\n"
          ]
        },
        {
          "output_type": "stream",
          "name": "stdout",
          "text": [
            "\n"
          ]
        },
        {
          "output_type": "display_data",
          "data": {
            "text/plain": [
              "<Figure size 640x480 with 1 Axes>"
            ],
            "image/png": "[encoded data removed]"
          },
          "metadata": {}
        }
      ]
    },
    {
      "cell_type": "markdown",
      "source": [
        "# **C) Assembly Recall: Keep Same $p_r$ With A Coreset of Some Hamming Distance Away From the Original**"
      ],
      "metadata": {
        "id": "bsWGucqbxrIy"
      }
    },
    {
      "cell_type": "code",
      "source": [
        "def perturbate_coreset(ham_dis, coreset):\n",
        "  output = copy.deepcopy(coreset)\n",
        "  if ham_dis == 0:\n",
        "    return output\n",
        "  replace = list(np.random.permutation(len(coreset))[:ham_dis]) # elements for replacement\n",
        "  flag = len(replace)\n",
        "  while flag != 0:\n",
        "    lucky_number = random.randrange(1000)\n",
        "    if lucky_number not in coreset:\n",
        "      replace_index = replace.pop()\n",
        "      output[replace_index] = lucky_number\n",
        "      flag -= 1\n",
        "  return output"
      ],
      "metadata": {
        "id": "1LmqB3l6IEMw"
      },
      "execution_count": 33,
      "outputs": []
    },
    {
      "cell_type": "code",
      "source": [
        "# test case\n",
        "coreset = np.random.permutation(40)[:10]\n",
        "perturbated_coreset = perturbate_coreset(3, coreset)\n",
        "print(coreset)\n",
        "print(perturbated_coreset)\n",
        "expected_result = len(coreset) - (sum(coreset == perturbated_coreset)) == 3\n",
        "assert expected_result, f\"Expected {expected_result}, but got {len(coreset) - (sum(coreset == perturbated_coreset))} instead.\""
      ],
      "metadata": {
        "colab": {
          "base_uri": "https://localhost:8080/"
        },
        "id": "wofYtig9O314",
        "outputId": "64810fcd-68ca-4b49-a70b-91c0dc0472d5"
      },
      "execution_count": 42,
      "outputs": [
        {
          "output_type": "stream",
          "name": "stdout",
          "text": [
            "[14 34 11 38 21 26  9 25 32 18]\n",
            "[103  34 582  38  21  26   9 568  32  18]\n"
          ]
        }
      ]
    },
    {
      "cell_type": "code",
      "source": [
        "def assembly_recall_stream_keep_pr(recur, T_train, T_recover):\n",
        "  B, n, k, p = 0.05, 1000, 41, 0.03\n",
        "  coreset = np.random.permutation(n)[:k]\n",
        "  x_coreset = np.zeros(n)\n",
        "  x_coreset[coreset] = 1.0\n",
        "\n",
        "  W_yx = np.random.binomial(1,p,size=(n,n)).astype(\"float64\")\n",
        "  W_yx_init = np.copy(W_yx)\n",
        "\n",
        "  if recur:\n",
        "    W_yy = np.random.binomial(1,p,size=(n,n)).astype(\"float64\")\n",
        "    W_yy_init = np.copy(W_yy)\n",
        "\n",
        "  y_tm1 = np.zeros(n)\n",
        "  \n",
        "  # training\n",
        "  print('Training starting...')\n",
        "  for t in tqdm(range(T_train)):\n",
        "      x = generate_stimulus(n, k, 0.9, coreset=coreset)\n",
        "\n",
        "      if recur:\n",
        "        y_t = W_yx.dot(x) + W_yy.dot(y_tm1)\n",
        "        y_t = capk(y_t, k)\n",
        "\n",
        "        # plasticity modifications\n",
        "        W_yx = hebbian_update(W_yx, y_t, x, B)\n",
        "        W_yy = hebbian_update(W_yy, y_t, y_tm1, B)\n",
        "        y_tm1 = np.copy(y_t)\n",
        "\n",
        "      else:\n",
        "        y_t = W_yx.dot(x)\n",
        "        y_t = capk(y_t, k)\n",
        "            \n",
        "        # plasticity modifications\n",
        "        W_yx = hebbian_update(W_yx, y_t, x, B)\n",
        "  \n",
        "  # recovering under 10 trials; calculate HM(y,y_0) each trial then average out\n",
        "  ham_range = np.linspace(0, 2*k, 8).astype(int)\n",
        "  result = np.zeros((len(ham_range), 10))\n",
        "  for j, ham in enumerate(ham_range):\n",
        "    print(\"\\tRecovering for ham\", ham)\n",
        "    per_ham = []\n",
        "    for trial in tqdm(range(10)):  \n",
        "      y_copy = copy.deepcopy(y_t)\n",
        "      for t in range(T_recover):\n",
        "        # change coreset here\n",
        "        x = generate_stimulus(n, k, 0.9, coreset=perturbate_coreset(ham, coreset)) #noisy stimuli\n",
        "        if recur:\n",
        "          y_tr = W_yx.dot(x) + W_yy.dot(y_copy)\n",
        "          y_tr = capk(y_tr, k)\n",
        "          y_copy = np.copy(y_tr)\n",
        "        else:\n",
        "          y_tr = W_yx.dot(x)\n",
        "          y_tr = capk(y_tr, k)\n",
        "\n",
        "        #calculate hamming distance at this step\n",
        "      per_ham.append(hamming(y_tr,y_t)*n)\n",
        "    result[j] = per_ham\n",
        "\n",
        "  # return output\n",
        "  return np.mean(result, axis=1), np.std(result, axis=1)/np.sqrt(10)"
      ],
      "metadata": {
        "id": "QOl5gkcZyFJ2"
      },
      "execution_count": 45,
      "outputs": []
    },
    {
      "cell_type": "code",
      "source": [
        "parameters = [True, False]\n",
        "size, both_sem = [], []\n",
        "ham_range = np.linspace(0, 2*41, 8).astype(int)\n",
        "for para in parameters:\n",
        "  total_support_size, sem = assembly_recall_stream_keep_pr(para,100,50)\n",
        "  size.append(total_support_size)\n",
        "  both_sem.append(sem)\n",
        "\n",
        "for r, arr, sem in zip(parameters, size, both_sem):\n",
        "    if r: \n",
        "      plt.plot(ham_range, arr,label='With Recurrence')\n",
        "      plt.fill_between(ham_range, arr - sem, arr +\n",
        "                         sem, alpha=0.25)\n",
        "    else:\n",
        "      plt.plot(ham_range, arr,label='Without Recurrence')\n",
        "      plt.fill_between(ham_range, arr - sem, arr +\n",
        "                         sem, alpha=0.25)\n",
        "plt.xlabel('Hamming distance between coresets')\n",
        "plt.ylabel('Hamming distance between assemblies $y$ and $y_0$')\n",
        "plt.autoscale(enable=True, axis='both', tight=None)\n",
        "plt.legend(loc='upper left')\n",
        "\n",
        "\"\"\"save plot\"\"\"\n",
        "# from google.colab import drive\n",
        "# from google.colab import files\n",
        "# drive.mount('/content/gdrive')\n",
        "# images_dir = '/content/gdrive/My Drive/images'\n",
        "# plt.savefig(f\"{images_dir}/assem_recall_same_pr_diff_coreset.pdf\")\n",
        "# files.download(\"/content/gdrive/My Drive/images/assem_recall_same_pr_diff_coreset.pdf\")\n",
        "\n",
        "plt.show()"
      ],
      "metadata": {
        "id": "So-BTa9HKtss",
        "colab": {
          "base_uri": "https://localhost:8080/",
          "height": 1000
        },
        "outputId": "204f9e81-6232-45f7-a829-4580a89a51bb"
      },
      "execution_count": 47,
      "outputs": [
        {
          "output_type": "stream",
          "name": "stdout",
          "text": [
            "Training starting...\n"
          ]
        },
        {
          "output_type": "stream",
          "name": "stderr",
          "text": [
            "100%|██████████| 100/100 [00:01<00:00, 76.29it/s]\n"
          ]
        },
        {
          "output_type": "stream",
          "name": "stdout",
          "text": [
            "\tRecovering for ham 0\n"
          ]
        },
        {
          "output_type": "stream",
          "name": "stderr",
          "text": [
            "100%|██████████| 10/10 [00:04<00:00,  2.46it/s]\n"
          ]
        },
        {
          "output_type": "stream",
          "name": "stdout",
          "text": [
            "\tRecovering for ham 11\n"
          ]
        },
        {
          "output_type": "stream",
          "name": "stderr",
          "text": [
            "100%|██████████| 10/10 [00:04<00:00,  2.12it/s]\n"
          ]
        },
        {
          "output_type": "stream",
          "name": "stdout",
          "text": [
            "\tRecovering for ham 23\n"
          ]
        },
        {
          "output_type": "stream",
          "name": "stderr",
          "text": [
            "100%|██████████| 10/10 [00:05<00:00,  1.99it/s]\n"
          ]
        },
        {
          "output_type": "stream",
          "name": "stdout",
          "text": [
            "\tRecovering for ham 35\n"
          ]
        },
        {
          "output_type": "stream",
          "name": "stderr",
          "text": [
            "100%|██████████| 10/10 [00:04<00:00,  2.32it/s]\n"
          ]
        },
        {
          "output_type": "stream",
          "name": "stdout",
          "text": [
            "\tRecovering for ham 46\n"
          ]
        },
        {
          "output_type": "stream",
          "name": "stderr",
          "text": [
            "100%|██████████| 10/10 [00:06<00:00,  1.65it/s]\n"
          ]
        },
        {
          "output_type": "stream",
          "name": "stdout",
          "text": [
            "\tRecovering for ham 58\n"
          ]
        },
        {
          "output_type": "stream",
          "name": "stderr",
          "text": [
            "100%|██████████| 10/10 [00:07<00:00,  1.36it/s]\n"
          ]
        },
        {
          "output_type": "stream",
          "name": "stdout",
          "text": [
            "\tRecovering for ham 70\n"
          ]
        },
        {
          "output_type": "stream",
          "name": "stderr",
          "text": [
            "100%|██████████| 10/10 [00:05<00:00,  1.73it/s]\n"
          ]
        },
        {
          "output_type": "stream",
          "name": "stdout",
          "text": [
            "\tRecovering for ham 82\n"
          ]
        },
        {
          "output_type": "stream",
          "name": "stderr",
          "text": [
            "100%|██████████| 10/10 [00:04<00:00,  2.39it/s]\n"
          ]
        },
        {
          "output_type": "stream",
          "name": "stdout",
          "text": [
            "Training starting...\n"
          ]
        },
        {
          "output_type": "stream",
          "name": "stderr",
          "text": [
            "100%|██████████| 100/100 [00:01<00:00, 88.57it/s]\n"
          ]
        },
        {
          "output_type": "stream",
          "name": "stdout",
          "text": [
            "\tRecovering for ham 0\n"
          ]
        },
        {
          "output_type": "stream",
          "name": "stderr",
          "text": [
            "100%|██████████| 10/10 [00:03<00:00,  2.69it/s]\n"
          ]
        },
        {
          "output_type": "stream",
          "name": "stdout",
          "text": [
            "\tRecovering for ham 11\n"
          ]
        },
        {
          "output_type": "stream",
          "name": "stderr",
          "text": [
            "100%|██████████| 10/10 [00:05<00:00,  1.90it/s]\n"
          ]
        },
        {
          "output_type": "stream",
          "name": "stdout",
          "text": [
            "\tRecovering for ham 23\n"
          ]
        },
        {
          "output_type": "stream",
          "name": "stderr",
          "text": [
            "100%|██████████| 10/10 [00:04<00:00,  2.42it/s]\n"
          ]
        },
        {
          "output_type": "stream",
          "name": "stdout",
          "text": [
            "\tRecovering for ham 35\n"
          ]
        },
        {
          "output_type": "stream",
          "name": "stderr",
          "text": [
            "100%|██████████| 10/10 [00:04<00:00,  2.49it/s]\n"
          ]
        },
        {
          "output_type": "stream",
          "name": "stdout",
          "text": [
            "\tRecovering for ham 46\n"
          ]
        },
        {
          "output_type": "stream",
          "name": "stderr",
          "text": [
            "100%|██████████| 10/10 [00:05<00:00,  1.85it/s]\n"
          ]
        },
        {
          "output_type": "stream",
          "name": "stdout",
          "text": [
            "\tRecovering for ham 58\n"
          ]
        },
        {
          "output_type": "stream",
          "name": "stderr",
          "text": [
            "100%|██████████| 10/10 [00:03<00:00,  2.57it/s]\n"
          ]
        },
        {
          "output_type": "stream",
          "name": "stdout",
          "text": [
            "\tRecovering for ham 70\n"
          ]
        },
        {
          "output_type": "stream",
          "name": "stderr",
          "text": [
            "100%|██████████| 10/10 [00:03<00:00,  2.66it/s]\n"
          ]
        },
        {
          "output_type": "stream",
          "name": "stdout",
          "text": [
            "\tRecovering for ham 82\n"
          ]
        },
        {
          "output_type": "stream",
          "name": "stderr",
          "text": [
            "100%|██████████| 10/10 [00:05<00:00,  1.81it/s]\n"
          ]
        },
        {
          "output_type": "display_data",
          "data": {
            "text/plain": [
              "<Figure size 640x480 with 1 Axes>"
            ],
            "image/png": "[encoded data removed]"
          },
          "metadata": {}
        }
      ]
    },
    {
      "cell_type": "code",
      "source": [],
      "metadata": {
        "id": "URAaKondNR26"
      },
      "execution_count": null,
      "outputs": []
    }
  ]
}